{
 "cells": [
  {
   "cell_type": "code",
   "execution_count": 1,
   "metadata": {},
   "outputs": [
    {
     "name": "stderr",
     "output_type": "stream",
     "text": [
      "Using TensorFlow backend.\n"
     ]
    }
   ],
   "source": [
    "import os\n",
    "import pandas as pd\n",
    "import numpy as np\n",
    "from glob import glob\n",
    "from tqdm.notebook import tqdm\n",
    "import pickle\n",
    "from math import cos, pi\n",
    "\n",
    "from sklearn.decomposition import PCA\n",
    "from sklearn.preprocessing import StandardScaler, MinMaxScaler\n",
    "import matplotlib.pyplot as plt\n",
    "from sklearn.ensemble import RandomForestClassifier\n",
    "from sklearn.model_selection import train_test_split\n",
    "from sklearn.metrics import classification_report, confusion_matrix\n",
    "from sklearn.base import BaseEstimator, TransformerMixin\n",
    "\n",
    "import torch\n",
    "from torch.utils.data import Dataset, DataLoader\n",
    "from torch.autograd import Variable\n",
    "import torch.nn as nn\n",
    "import torch.nn.functional as F\n",
    "from torchtext import data    \n",
    "import spacy\n",
    "import nltk\n",
    "import itertools\n",
    "import io\n",
    "from imblearn.over_sampling import SMOTE\n",
    "nlp = spacy.load('en')\n",
    "\n",
    "device = torch.device('cuda:0' if torch.cuda.is_available() else 'cpu')\n",
    "# device='cpu'\n",
    "import read_preprocess\n",
    "from models import DNN, dataset_csv\n",
    "CUDA_LAUNCH_BLOCKING=1\n",
    "\n",
    "from livelossplot import PlotLosses\n",
    "# from IPython.core.display import display, HTML\n",
    "# display(HTML(\"<style>.container { width:100% !important; }</style>\"))"
   ]
  },
  {
   "cell_type": "code",
   "execution_count": 2,
   "metadata": {},
   "outputs": [],
   "source": [
    "class Discretize(BaseEstimator, TransformerMixin):\n",
    "    def __init__(self, bucket_boundaries):\n",
    "        self.bb = bucket_boundaries\n",
    "        \n",
    "    def fit(self,X:pd.DataFrame):\n",
    "        self.X = X\n",
    "        self.X_num = self.X.select_dtypes(exclude=['category','uint8'])\n",
    "        self.cols = self.X_num.columns.tolist()\n",
    "        return self\n",
    "    def transform(self,X):\n",
    "        df_disc = pd.DataFrame()\n",
    "        for col in self.cols:\n",
    "            df_disc[col] = pd.cut(self.X_num[col],bins = self.bb,labels=['young','middle_aged','old'])\n",
    "        df_disc = pd.get_dummies(df_disc,drop_first=False)\n",
    "        \n",
    "        return pd.concat([self.X,df_disc],axis=1)"
   ]
  },
  {
   "cell_type": "code",
   "execution_count": 3,
   "metadata": {},
   "outputs": [
    {
     "data": {
      "text/plain": [
       "1    13317\n",
       "2     4300\n",
       "3     3256\n",
       "4     1910\n",
       "5     1337\n",
       "Name: Rating, dtype: int64"
      ]
     },
     "execution_count": 3,
     "metadata": {},
     "output_type": "execute_result"
    }
   ],
   "source": [
    "frame = pd.read_csv('./adv_train.csv', index_col=False)\n",
    "target = \"Rating\"\n",
    "frame['Rating'].value_counts()"
   ]
  },
  {
   "cell_type": "code",
   "execution_count": 4,
   "metadata": {},
   "outputs": [],
   "source": [
    "frame[target].values[frame[target].values>1]=2"
   ]
  },
  {
   "cell_type": "code",
   "execution_count": 5,
   "metadata": {},
   "outputs": [
    {
     "name": "stdout",
     "output_type": "stream",
     "text": [
      "Bad Frames: 0\n"
     ]
    }
   ],
   "source": [
    "def preprocess_sparse(frame_sparse):\n",
    "    bad_na, good_na = [],[]\n",
    "    for column in frame_sparse:\n",
    "        if frame_sparse[column].isna().sum()/frame_sparse.shape[0] > 0.3:\n",
    "            frame_sparse.append(column)\n",
    "        elif frame_sparse[column].isna().sum()/frame_sparse.shape[0] <= 0.3 and frame_sparse[column].isna().any()==True:\n",
    "            good_na.append(column)\n",
    "        frame_sparse = frame_sparse.drop(bad_na,axis=1)\n",
    "    print(f\"Bad Frames: {len(bad_na)}\")\n",
    "    for col in good_na:\n",
    "        frame_sparse[col] = frame_sparse[col].fillna(stats.stats.mode(frame_sparse[col])[0][0])\n",
    "    return frame_sparse\n",
    "frame = preprocess_sparse(frame)"
   ]
  },
  {
   "cell_type": "code",
   "execution_count": 6,
   "metadata": {},
   "outputs": [],
   "source": [
    "glove_path = './glove.twitter.27B/glove.twitter.27B.25d.txt'\n",
    "def load_glove(path):\n",
    "    \"\"\"\n",
    "    creates a dictionary mapping words to vectors from a file in glove format.\n",
    "    \"\"\"\n",
    "    with open(path) as f:\n",
    "        glove = {}\n",
    "        for line in f.readlines():\n",
    "            values = line.split(' ')\n",
    "            word = values[0]\n",
    "            vector = np.array(values[1:], dtype='float32')\n",
    "            glove[word] = vector\n",
    "        return glove\n",
    "    \n",
    "def load_glove_embeddings(path, word2idx, embedding_dim=25):\n",
    "    with open(path) as f:\n",
    "        embeddings = np.zeros((len(word2idx), embedding_dim))\n",
    "        for line in f.readlines():\n",
    "            values = line.split(' ')\n",
    "            word = values[0]\n",
    "            index = word2idx.get(word)\n",
    "            if index:\n",
    "                vector = np.array(values[1:], dtype='float32')\n",
    "                embeddings[index] = vector\n",
    "        return torch.from_numpy(embeddings).float()\n",
    "\n",
    "def tokenizer(text):\n",
    "    text = text.replace('<br />',' ')\n",
    "    text = text.replace('\\x96',' ')\n",
    "    text = nltk.word_tokenize(text)\n",
    "    text = [w.lower() for w in text]\n",
    "    return text"
   ]
  },
  {
   "cell_type": "code",
   "execution_count": 7,
   "metadata": {},
   "outputs": [],
   "source": [
    "bucket_boundaries = [0, 24, 46, 100]\n",
    "discretizer = Discretize(bucket_boundaries)\n",
    "age = discretizer.fit_transform(frame[['Age']]).drop(['Age'],axis=1)\n",
    "frame = frame.loc[:,'Rating':'unfav']\n",
    "frame_sparse = frame.loc[:,'Rating':'Mostwatchedtvprogrammes_Weather']\n",
    "frame_sparse = pd.concat((frame_sparse,age), axis=1)\n",
    "\n",
    "frame_x_text = frame.loc[:,'fav':'unfav']\n",
    "\n",
    "x_train_text = []\n",
    "for i in frame_x_text['fav']+frame_x_text['unfav']:\n",
    "    text = tokenizer(i)\n",
    "    x_train_text.append(text)\n",
    "    \n",
    "# x_val_text = []\n",
    "# for i in X_val_text_df['fav']+X_val_text_df['unfav']:\n",
    "#     text = tokenizer(i)\n",
    "#     x_val_text.append(text)\n",
    "    \n",
    "all_tokens = itertools.chain.from_iterable(x_train_text)\n",
    "word_to_id = {token:idx for idx, token in enumerate(set(all_tokens))}\n",
    "\n",
    "all_tokens = itertools.chain.from_iterable(x_train_text)\n",
    "id_to_word = [token for idx, token in enumerate(set(all_tokens))]\n",
    "id_to_word = np.asarray(id_to_word)\n",
    "\n",
    "\"\"\" Load Train Embeddings \"\"\"\n",
    "glove = load_glove(glove_path)\n",
    "train_embeddings = load_glove_embeddings(glove_path, word_to_id)\n",
    "\n",
    "max_len = max([len(i) for i in x_train_text])\n",
    "x_train_tokenized_sentences = np.array([[word_to_id[i] for i in j] for j in x_train_text])\n",
    "# x_val_tokenized_sentences = np.array([[word_to_id[i] for i in j] for j in x_val_text])\n",
    "\n",
    "# # Pad tokens with 0s\n",
    "for i in range(len(x_train_tokenized_sentences)):\n",
    "    a = x_train_tokenized_sentences[i]\n",
    "    x_train_tokenized_sentences[i] = np.concatenate([a,np.zeros(max_len-len(a))])\n",
    "    \n",
    "# for i in range(len(x_val_tokenized_sentences)):\n",
    "#     a = x_val_tokenized_sentences[i]\n",
    "#     x_val_tokenized_sentences[i] = np.concatenate([a,np.zeros(max_len-len(a))])"
   ]
  },
  {
   "cell_type": "code",
   "execution_count": 29,
   "metadata": {},
   "outputs": [
    {
     "data": {
      "text/plain": [
       "<BarContainer object of 1 artists>"
      ]
     },
     "execution_count": 29,
     "metadata": {},
     "output_type": "execute_result"
    },
    {
     "data": {
      "image/png": "[encoded data removed]",
      "text/plain": [
       "<Figure size 432x288 with 1 Axes>"
      ]
     },
     "metadata": {
      "needs_background": "light"
     },
     "output_type": "display_data"
    }
   ],
   "source": [
    "plt.bar([0],frame_sparse['Age_young'].value_counts()[1])\n",
    "plt.bar([1],frame_sparse['Age_middle_aged'].value_counts()[1])\n",
    "plt.bar([2],frame_sparse['Age_old'].value_counts()[1])"
   ]
  },
  {
   "cell_type": "code",
   "execution_count": 30,
   "metadata": {
    "scrolled": true
   },
   "outputs": [],
   "source": [
    "frame_x_embedded = pd.DataFrame(x_train_tokenized_sentences.tolist())\n",
    "frame_x_embedded.columns = [str(i) for i in frame_x_embedded.columns]\n",
    "combined_dataset = pd.concat((frame_sparse,frame_x_embedded), axis=1)"
   ]
  },
  {
   "cell_type": "code",
   "execution_count": 31,
   "metadata": {},
   "outputs": [],
   "source": [
    "a = []\n",
    "for i,j,k in zip(combined_dataset['Age_young'], combined_dataset['Age_middle_aged'], combined_dataset['Age_old']):\n",
    "    if i==1: a.append(0)\n",
    "    elif j==1: a.append(1)\n",
    "    elif k==1: a.append(2)\n",
    "age = pd.DataFrame(a,columns=[\"Age\"])\n",
    "\n",
    "combined_dataset[\"Age\"] = age "
   ]
  },
  {
   "cell_type": "code",
   "execution_count": 32,
   "metadata": {
    "scrolled": true
   },
   "outputs": [],
   "source": [
    "combined_dataset = combined_dataset.drop(['Age_young',\"Age_middle_aged\",\"Age_old\"], axis=1)"
   ]
  },
  {
   "cell_type": "code",
   "execution_count": 33,
   "metadata": {},
   "outputs": [],
   "source": [
    "# combined_dataset = pd.concat((frame_sparse,frame_x_embedded), axis=1)\n",
    "# combined_x = combined_dataset.loc[:,combined_dataset.columns != target]\n",
    "# combined_y = pd.DataFrame(combined_dataset[target],columns=[target])\n",
    "\n",
    "combined_x_g = combined_dataset.loc[:,combined_dataset.columns != 'Age']\n",
    "combined_y_g = pd.DataFrame(combined_dataset['Age'],columns=['Age'])\n",
    "smote_oversample = SMOTE()\n",
    "combined_x_g, combined_y_g = smote_oversample.fit_resample(combined_x_g, combined_y_g)\n",
    "combined_y = combined_x_g['Rating']\n",
    "combined_x = combined_x_g.drop('Rating', axis=1)"
   ]
  },
  {
   "cell_type": "code",
   "execution_count": 35,
   "metadata": {
    "scrolled": true
   },
   "outputs": [],
   "source": [
    "bucket_boundaries = [0, 24, 46, 100]\n",
    "discretizer = Discretize(bucket_boundaries)\n",
    "combined_y_g = discretizer.fit_transform(combined_y_g[['Age']]).drop(['Age'],axis=1)"
   ]
  },
  {
   "cell_type": "code",
   "execution_count": 36,
   "metadata": {},
   "outputs": [],
   "source": [
    "a = combined_x.columns.get_loc(\"Mostwatchedtvprogrammes_Weather\")+1"
   ]
  },
  {
   "cell_type": "code",
   "execution_count": 37,
   "metadata": {},
   "outputs": [],
   "source": [
    "combined_x.insert(loc=a,column=\"Age_young\",value=combined_y_g['Age_young'])\n",
    "combined_x.insert(loc=a+1,column=\"Age_middle_aged\",value=combined_y_g['Age_middle_aged'])\n",
    "combined_x.insert(loc=a+2,column=\"Age_old\",value=combined_y_g['Age_old'])"
   ]
  },
  {
   "cell_type": "code",
   "execution_count": 38,
   "metadata": {
    "scrolled": true
   },
   "outputs": [],
   "source": [
    "combined_data = pd.concat((combined_x, combined_y),axis=1)\n",
    "# combined_data = combined_data.sample(frac=1)\n",
    "frame_x_sparse = combined_data.loc[:,'Gender_F':'Age_old']\n",
    "frame_x_embedded = combined_data.loc[:,'0':'105']\n",
    "frame_y = combined_data[target]"
   ]
  },
  {
   "cell_type": "code",
   "execution_count": 39,
   "metadata": {},
   "outputs": [
    {
     "data": {
      "text/plain": [
       "(37374, 261)"
      ]
     },
     "execution_count": 39,
     "metadata": {},
     "output_type": "execute_result"
    }
   ],
   "source": [
    "frame_x_sparse.shape"
   ]
  },
  {
   "cell_type": "code",
   "execution_count": 40,
   "metadata": {
    "scrolled": true
   },
   "outputs": [],
   "source": [
    "cc = combined_data.iloc[:,-107:-1]\n",
    "cc = cc.reset_index(drop=True)\n",
    "rows = {\"0\":[]}\n",
    "for i in range(cc.shape[0]):\n",
    "    temp = cc.loc[i,:]\n",
    "    rows[\"0\"].append(temp.values.tolist())\n",
    "frame_x_embedded = pd.DataFrame(rows)"
   ]
  },
  {
   "cell_type": "code",
   "execution_count": 41,
   "metadata": {},
   "outputs": [],
   "source": [
    "frame_x_embedded.columns=[\"fav_unfav\"]\n",
    "frame_sparse = pd.concat((frame_x_sparse,frame_x_embedded),axis=1)"
   ]
  },
  {
   "cell_type": "code",
   "execution_count": 42,
   "metadata": {},
   "outputs": [],
   "source": [
    "X_train, X_val, y_train, y_val = train_test_split(frame_sparse.loc[:, frame_sparse.columns != target], frame_y, test_size=0.2, random_state=42)"
   ]
  },
  {
   "cell_type": "code",
   "execution_count": 43,
   "metadata": {},
   "outputs": [
    {
     "name": "stderr",
     "output_type": "stream",
     "text": [
      "/home/user/anaconda3/envs/py37/lib/python3.7/site-packages/ipykernel_launcher.py:4: FutureWarning: The signature of `Series.to_csv` was aligned to that of `DataFrame.to_csv`, and argument 'header' will change its default value from False to True: please pass an explicit value to suppress this warning.\n",
      "  after removing the cwd from sys.path.\n",
      "/home/user/anaconda3/envs/py37/lib/python3.7/site-packages/ipykernel_launcher.py:8: FutureWarning: The signature of `Series.to_csv` was aligned to that of `DataFrame.to_csv`, and argument 'header' will change its default value from False to True: please pass an explicit value to suppress this warning.\n",
      "  \n"
     ]
    }
   ],
   "source": [
    "X_train_stats = X_train.loc[:,'Gender_F':'Age_old']\n",
    "X_train_stats.to_csv('./processed_splits/X_train_stats.csv', index=False)\n",
    "X_train_text_df = X_train.loc[:,'fav_unfav']\n",
    "X_train_text_df.to_csv('./processed_splits/X_train_text.csv', index=False)\n",
    "X_val_stats = X_val.loc[:,'Gender_F':'Age_old']\n",
    "X_val_stats.to_csv('./processed_splits/X_val_stats.csv', index=False)\n",
    "X_val_text_df  = X_val.loc[:,'fav_unfav']\n",
    "X_val_text_df.to_csv('./processed_splits/X_val_text.csv', index=False)\n",
    "y_train_df = pd.DataFrame(y_train, columns=[target])-1 # Subtract one cos rating 1 to 5 instead of 0 to 4 \n",
    "y_train_df.to_csv('./processed_splits/y_train.csv', index=False)\n",
    "y_val_df  = pd.DataFrame(y_val, columns=[target])-1\n",
    "y_val_df.to_csv('./processed_splits/y_val.csv', index=False)"
   ]
  },
  {
   "cell_type": "code",
   "execution_count": 44,
   "metadata": {
    "scrolled": true
   },
   "outputs": [
    {
     "data": {
      "text/plain": [
       "((29899, 261), (29899,), (29899,))"
      ]
     },
     "execution_count": 44,
     "metadata": {},
     "output_type": "execute_result"
    }
   ],
   "source": [
    "X_train_stats.shape, y_train.shape, X_train_text_df.shape"
   ]
  },
  {
   "cell_type": "code",
   "execution_count": 45,
   "metadata": {},
   "outputs": [
    {
     "data": {
      "text/plain": [
       "(7475,)"
      ]
     },
     "execution_count": 45,
     "metadata": {},
     "output_type": "execute_result"
    }
   ],
   "source": [
    "X_val_text_df.shape"
   ]
  },
  {
   "cell_type": "code",
   "execution_count": 46,
   "metadata": {
    "scrolled": true
   },
   "outputs": [],
   "source": [
    "x_train_tokenized_sentences = X_train_text_df.values\n",
    "for i in range(len(x_train_tokenized_sentences)):\n",
    "    x_train_tokenized_sentences[i] = np.array(x_train_tokenized_sentences[i])\n",
    "x_val_tokenized_sentences = X_val_text_df.values\n",
    "for i in range(len(x_val_tokenized_sentences)):\n",
    "    x_val_tokenized_sentences[i] = np.array(x_val_tokenized_sentences[i])"
   ]
  },
  {
   "cell_type": "raw",
   "metadata": {},
   "source": [
    "sparse_embeddings = nn.Embedding(263, 64)\n",
    "sparse_embeddings(torch.tensor(X_train_stats.values[:64,:])).shape"
   ]
  },
  {
   "cell_type": "raw",
   "metadata": {},
   "source": [
    "embedding(torch.LongTensor([0]))"
   ]
  },
  {
   "cell_type": "raw",
   "metadata": {},
   "source": [
    "embedding = nn.Embedding.from_pretrained(train_embeddings)"
   ]
  },
  {
   "cell_type": "raw",
   "metadata": {},
   "source": [
    "input = torch.LongTensor([x_train_tokenized_sentences[0]])\n",
    "embedding(input).view(-1)"
   ]
  },
  {
   "cell_type": "code",
   "execution_count": 47,
   "metadata": {},
   "outputs": [],
   "source": [
    "class DataReader(Dataset):\n",
    "    def __init__(self, X_stats, x_train_tokenized_sentences, y, target):\n",
    "        self.x1 = X_stats.values\n",
    "        self.x2 = x_train_tokenized_sentences\n",
    "        self.y = y[target].values\n",
    "        \n",
    "    def __getitem__(self, idx):\n",
    "        x1 = self.x1[idx, :]\n",
    "        x2 = self.x2[idx]\n",
    "        y = self.y[idx]\n",
    "        return x1, x2, y\n",
    "    \n",
    "    def __len__(self):\n",
    "        return self.x2.shape[0]"
   ]
  },
  {
   "cell_type": "code",
   "execution_count": 48,
   "metadata": {},
   "outputs": [],
   "source": [
    "class Classifier(nn.Module):\n",
    "    def __init__(self, train_embeddings, dropout):\n",
    "        super().__init__()\n",
    "        self.sparse_embeddings = nn.Embedding(261, 25)\n",
    "        self.text_embeddings = nn.Embedding.from_pretrained(train_embeddings)\n",
    "        self.emb_lin = nn.Linear(9175, 256)\n",
    "        self.lin1 = nn.Linear(256, 512) # 64 = glove embedding(25) + sparse embedding(39)\n",
    "        self.lin2 = nn.Linear(512, 128)\n",
    "        self.lin3 = nn.Linear(128,32)\n",
    "        self.lin4 = nn.Linear(32, 2)\n",
    "#         self.bn1 = nn.BatchNorm1d(self.n_cont)\n",
    "#         self.bn2 = nn.BatchNorm1d(200)\n",
    "#         self.bn3 = nn.BatchNorm1d(70)\n",
    "        self.dropout = nn.Dropout(dropout)\n",
    "        self.logsoftmax = nn.LogSoftmax(dim=1)\n",
    "        \n",
    "    def forward(self, x_sparse, x_text):\n",
    "        x = self.sparse_embeddings(x_sparse)\n",
    "        x2 = self.text_embeddings(x_text)\n",
    "        x = torch.cat([x, x2], 1)\n",
    "        x = x.view(-1, 9175)\n",
    "        x = self.emb_lin(x)\n",
    "        x = F.relu(self.lin1(x))\n",
    "        x = self.dropout(x)\n",
    "        x = F.relu(self.lin2(x))\n",
    "        x = self.dropout(x)\n",
    "        x = self.lin3(x)\n",
    "        x = self.dropout(x)\n",
    "        x = self.lin4(x)\n",
    "        x = self.logsoftmax(x)\n",
    "        return x"
   ]
  },
  {
   "cell_type": "code",
   "execution_count": 49,
   "metadata": {
    "scrolled": false
   },
   "outputs": [],
   "source": [
    "def cosine_lr(lr, epoch, step_size):\n",
    "    lr = lr/2 * (cos(pi*(epoch%step_size)/step_size)+1)\n",
    "    return lr\n",
    "\n",
    "def train(lr, batch_size, epochs, low_lr, step_size, dropout, cycle_bool):\n",
    "    lr = lr\n",
    "    batch_size = batch_size\n",
    "    params = {\n",
    "        'batch_size': batch_size,\n",
    "        'shuffle': True,\n",
    "        'num_workers': 0\n",
    "    }\n",
    "    epochs = epochs\n",
    "#     step_size = trial.suggest_int(\"step_size\",5,100)\n",
    "    highest_acc = 0\n",
    "#     dim = trial.suggest_categorical(\"layer_dims\", [32,64,128,256,512])\n",
    "#     print(type(dim))\n",
    "    dropout = dropout\n",
    "    net = Classifier(train_embeddings, dropout=dropout)\n",
    "    criterion = nn.NLLLoss()\n",
    "    optimizer = torch.optim.Adam(net.parameters(), lr=lr,weight_decay=0.0001)\n",
    "\n",
    "    training_set = DataReader(X_train_stats, x_train_tokenized_sentences, y_train_df, target)\n",
    "    train_loader = DataLoader(training_set, **params)\n",
    "    validation_set = DataReader(X_val_stats, x_val_tokenized_sentences, y_val_df, target)\n",
    "    val_loader = DataLoader(validation_set, **params)\n",
    "\n",
    "    net = net.to(device)\n",
    "    criterion = criterion.to(device)\n",
    "    liveloss = PlotLosses()\n",
    "    \n",
    "    low_lr = low_lr\n",
    "#     cyclic_bool = trial.suggest_categorical(\"cyclic_bool\",[True, False])\n",
    "    plateau = 0\n",
    "    for epoch in range(epochs):\n",
    "        logs = {}\n",
    "        if cycle_bool:\n",
    "            for a in optimizer.param_groups:\n",
    "                lr1 = cosine_lr(lr, epoch, step_size) + low_lr\n",
    "                a['lr'] = lr1\n",
    "\n",
    "        t_loss, a, acc = 0, 0, 0\n",
    "        for x_sparse, x_text, y_train in train_loader:\n",
    "            a+=1\n",
    "\n",
    "            x_sparse, x_text, y_train = x_sparse.to(device, dtype = torch.int64), x_text.to(device, dtype = torch.int64), y_train.to(device)\n",
    "            optimizer.zero_grad()\n",
    "            net.train()\n",
    "            y_pred = net(x_sparse, x_text)\n",
    "            train_loss = F.cross_entropy(y_pred,y_train)\n",
    "            t_loss += train_loss\n",
    "            train_loss.backward()\n",
    "            optimizer.step()\n",
    "            acc += (y_pred.argmax(dim=1) == y_train).sum().float() / float(y_train.size(0))\n",
    "\n",
    "        print(acc/a)\n",
    "        t_loss /= a\n",
    "        if epoch%2 == 0:\n",
    "            logs['CE Loss'] = t_loss / a\n",
    "            logs['Accuracy'] = acc/a\n",
    "            with torch.set_grad_enabled(False):\n",
    "                test_loss, a, acc = 0, 0, 0\n",
    "                for x_sparse_val, x_text_val, y_val in val_loader:\n",
    "                    a += 1\n",
    "                    x_sparse_val, x_text_val, y_val = x_sparse_val.to(device, dtype = torch.int64), x_text_val.to(device, dtype = torch.int64), y_val.to(device)\n",
    "                    y_test_pred = net(x_sparse_val, x_text_val)\n",
    "                    y_test_pred = torch.squeeze(y_test_pred)\n",
    "                    test_loss += F.cross_entropy(y_test_pred,y_val)\n",
    "                    acc += (y_test_pred.argmax(dim=1) == y_val).sum().float() / float(y_val.size(0))\n",
    "            if (acc/a)>highest_acc+0.003: \n",
    "                plateau = 0\n",
    "                highest_acc = acc/a\n",
    "                torch.save(net.state_dict(),\"./model_info/9_June_age.pth\")\n",
    "            else:\n",
    "                plateau += 1\n",
    "            print(acc/a)\n",
    "            test_loss /= a\n",
    "\n",
    "            logs['Val CE Loss'] = test_loss / a\n",
    "            logs['Val Accuracy'] = acc/a\n",
    "            logs['Highest Acc'] = highest_acc\n",
    "            logs['Plateau'] = plateau\n",
    "            print(f'[epoch]: {epoch}, [Train Loss]: {t_loss.item()}, [Val Loss]: {test_loss.item()}')\n",
    "            if plateau>=5:\n",
    "                for a in optimizer.param_groups:\n",
    "                    a['lr'] = lr*0.8\n",
    "            if plateau>=40:\n",
    "                break\n",
    "        liveloss.update(logs)\n",
    "        liveloss.send()\n",
    "    return highest_acc, net"
   ]
  },
  {
   "cell_type": "code",
   "execution_count": 50,
   "metadata": {},
   "outputs": [
    {
     "data": {
      "image/png": "[encoded data removed]",
      "text/plain": [
       "<Figure size 864x1152 with 6 Axes>"
      ]
     },
     "metadata": {
      "needs_background": "light"
     },
     "output_type": "display_data"
    },
    {
     "name": "stdout",
     "output_type": "stream",
     "text": [
      "Accuracy\n",
      "\tAccuracy         \t (min:    0.647, max:    0.804, cur:    0.802)\n",
      "CE Loss\n",
      "\tCE Loss          \t (min:    0.004, max:    0.005, cur:    0.004)\n",
      "Highest Acc\n",
      "\tHighest Acc      \t (min:    0.720, max:    0.775, cur:    0.775)\n",
      "Plateau\n",
      "\tPlateau          \t (min:    0.000, max:   14.000, cur:    7.000)\n",
      "Val Accuracy\n",
      "\tVal Accuracy     \t (min:    0.720, max:    0.775, cur:    0.774)\n",
      "Val CE Loss\n",
      "\tVal CE Loss      \t (min:    0.016, max:    0.019, cur:    0.016)\n"
     ]
    },
    {
     "ename": "KeyboardInterrupt",
     "evalue": "",
     "output_type": "error",
     "traceback": [
      "\u001b[0;31m---------------------------------------------------------------------------\u001b[0m",
      "\u001b[0;31mKeyboardInterrupt\u001b[0m                         Traceback (most recent call last)",
      "\u001b[0;32m<ipython-input-50-b8b4c07d9993>\u001b[0m in \u001b[0;36m<module>\u001b[0;34m\u001b[0m\n\u001b[1;32m      6\u001b[0m \u001b[0mdropout\u001b[0m \u001b[0;34m=\u001b[0m \u001b[0;36m0.4\u001b[0m\u001b[0;34m\u001b[0m\u001b[0;34m\u001b[0m\u001b[0m\n\u001b[1;32m      7\u001b[0m \u001b[0mcycle_bool\u001b[0m \u001b[0;34m=\u001b[0m \u001b[0;32mTrue\u001b[0m\u001b[0;34m\u001b[0m\u001b[0;34m\u001b[0m\u001b[0m\n\u001b[0;32m----> 8\u001b[0;31m \u001b[0macc\u001b[0m\u001b[0;34m,\u001b[0m \u001b[0mnet\u001b[0m \u001b[0;34m=\u001b[0m \u001b[0mtrain\u001b[0m\u001b[0;34m(\u001b[0m\u001b[0mlr\u001b[0m\u001b[0;34m,\u001b[0m \u001b[0mbatch_size\u001b[0m\u001b[0;34m,\u001b[0m \u001b[0mepochs\u001b[0m\u001b[0;34m,\u001b[0m \u001b[0mlow_lr\u001b[0m\u001b[0;34m,\u001b[0m \u001b[0mstep_size\u001b[0m\u001b[0;34m,\u001b[0m \u001b[0mdropout\u001b[0m\u001b[0;34m,\u001b[0m \u001b[0mcycle_bool\u001b[0m\u001b[0;34m)\u001b[0m\u001b[0;34m\u001b[0m\u001b[0;34m\u001b[0m\u001b[0m\n\u001b[0m\u001b[1;32m      9\u001b[0m \u001b[0mtorch\u001b[0m\u001b[0;34m.\u001b[0m\u001b[0msave\u001b[0m\u001b[0;34m(\u001b[0m\u001b[0mnet\u001b[0m\u001b[0;34m.\u001b[0m\u001b[0mstate_dict\u001b[0m\u001b[0;34m(\u001b[0m\u001b[0;34m)\u001b[0m\u001b[0;34m,\u001b[0m\u001b[0;34m\"./model_info/4_June_0.pth\"\u001b[0m\u001b[0;34m)\u001b[0m\u001b[0;34m\u001b[0m\u001b[0;34m\u001b[0m\u001b[0m\n",
      "\u001b[0;32m<ipython-input-49-03e2b6ad6f3a>\u001b[0m in \u001b[0;36mtrain\u001b[0;34m(lr, batch_size, epochs, low_lr, step_size, dropout, cycle_bool)\u001b[0m\n\u001b[1;32m     50\u001b[0m             \u001b[0mtrain_loss\u001b[0m \u001b[0;34m=\u001b[0m \u001b[0mF\u001b[0m\u001b[0;34m.\u001b[0m\u001b[0mcross_entropy\u001b[0m\u001b[0;34m(\u001b[0m\u001b[0my_pred\u001b[0m\u001b[0;34m,\u001b[0m\u001b[0my_train\u001b[0m\u001b[0;34m)\u001b[0m\u001b[0;34m\u001b[0m\u001b[0;34m\u001b[0m\u001b[0m\n\u001b[1;32m     51\u001b[0m             \u001b[0mt_loss\u001b[0m \u001b[0;34m+=\u001b[0m \u001b[0mtrain_loss\u001b[0m\u001b[0;34m\u001b[0m\u001b[0;34m\u001b[0m\u001b[0m\n\u001b[0;32m---> 52\u001b[0;31m             \u001b[0mtrain_loss\u001b[0m\u001b[0;34m.\u001b[0m\u001b[0mbackward\u001b[0m\u001b[0;34m(\u001b[0m\u001b[0;34m)\u001b[0m\u001b[0;34m\u001b[0m\u001b[0;34m\u001b[0m\u001b[0m\n\u001b[0m\u001b[1;32m     53\u001b[0m             \u001b[0moptimizer\u001b[0m\u001b[0;34m.\u001b[0m\u001b[0mstep\u001b[0m\u001b[0;34m(\u001b[0m\u001b[0;34m)\u001b[0m\u001b[0;34m\u001b[0m\u001b[0;34m\u001b[0m\u001b[0m\n\u001b[1;32m     54\u001b[0m             \u001b[0macc\u001b[0m \u001b[0;34m+=\u001b[0m \u001b[0;34m(\u001b[0m\u001b[0my_pred\u001b[0m\u001b[0;34m.\u001b[0m\u001b[0margmax\u001b[0m\u001b[0;34m(\u001b[0m\u001b[0mdim\u001b[0m\u001b[0;34m=\u001b[0m\u001b[0;36m1\u001b[0m\u001b[0;34m)\u001b[0m \u001b[0;34m==\u001b[0m \u001b[0my_train\u001b[0m\u001b[0;34m)\u001b[0m\u001b[0;34m.\u001b[0m\u001b[0msum\u001b[0m\u001b[0;34m(\u001b[0m\u001b[0;34m)\u001b[0m\u001b[0;34m.\u001b[0m\u001b[0mfloat\u001b[0m\u001b[0;34m(\u001b[0m\u001b[0;34m)\u001b[0m \u001b[0;34m/\u001b[0m \u001b[0mfloat\u001b[0m\u001b[0;34m(\u001b[0m\u001b[0my_train\u001b[0m\u001b[0;34m.\u001b[0m\u001b[0msize\u001b[0m\u001b[0;34m(\u001b[0m\u001b[0;36m0\u001b[0m\u001b[0;34m)\u001b[0m\u001b[0;34m)\u001b[0m\u001b[0;34m\u001b[0m\u001b[0;34m\u001b[0m\u001b[0m\n",
      "\u001b[0;32m~/anaconda3/envs/py37/lib/python3.7/site-packages/torch/tensor.py\u001b[0m in \u001b[0;36mbackward\u001b[0;34m(self, gradient, retain_graph, create_graph)\u001b[0m\n\u001b[1;32m    193\u001b[0m                 \u001b[0mproducts\u001b[0m\u001b[0;34m.\u001b[0m \u001b[0mDefaults\u001b[0m \u001b[0mto\u001b[0m\u001b[0;31m \u001b[0m\u001b[0;31m`\u001b[0m\u001b[0;31m`\u001b[0m\u001b[0;32mFalse\u001b[0m\u001b[0;31m`\u001b[0m\u001b[0;31m`\u001b[0m\u001b[0;34m.\u001b[0m\u001b[0;34m\u001b[0m\u001b[0;34m\u001b[0m\u001b[0m\n\u001b[1;32m    194\u001b[0m         \"\"\"\n\u001b[0;32m--> 195\u001b[0;31m         \u001b[0mtorch\u001b[0m\u001b[0;34m.\u001b[0m\u001b[0mautograd\u001b[0m\u001b[0;34m.\u001b[0m\u001b[0mbackward\u001b[0m\u001b[0;34m(\u001b[0m\u001b[0mself\u001b[0m\u001b[0;34m,\u001b[0m \u001b[0mgradient\u001b[0m\u001b[0;34m,\u001b[0m \u001b[0mretain_graph\u001b[0m\u001b[0;34m,\u001b[0m \u001b[0mcreate_graph\u001b[0m\u001b[0;34m)\u001b[0m\u001b[0;34m\u001b[0m\u001b[0;34m\u001b[0m\u001b[0m\n\u001b[0m\u001b[1;32m    196\u001b[0m \u001b[0;34m\u001b[0m\u001b[0m\n\u001b[1;32m    197\u001b[0m     \u001b[0;32mdef\u001b[0m \u001b[0mregister_hook\u001b[0m\u001b[0;34m(\u001b[0m\u001b[0mself\u001b[0m\u001b[0;34m,\u001b[0m \u001b[0mhook\u001b[0m\u001b[0;34m)\u001b[0m\u001b[0;34m:\u001b[0m\u001b[0;34m\u001b[0m\u001b[0;34m\u001b[0m\u001b[0m\n",
      "\u001b[0;32m~/anaconda3/envs/py37/lib/python3.7/site-packages/torch/autograd/__init__.py\u001b[0m in \u001b[0;36mbackward\u001b[0;34m(tensors, grad_tensors, retain_graph, create_graph, grad_variables)\u001b[0m\n\u001b[1;32m     97\u001b[0m     Variable._execution_engine.run_backward(\n\u001b[1;32m     98\u001b[0m         \u001b[0mtensors\u001b[0m\u001b[0;34m,\u001b[0m \u001b[0mgrad_tensors\u001b[0m\u001b[0;34m,\u001b[0m \u001b[0mretain_graph\u001b[0m\u001b[0;34m,\u001b[0m \u001b[0mcreate_graph\u001b[0m\u001b[0;34m,\u001b[0m\u001b[0;34m\u001b[0m\u001b[0;34m\u001b[0m\u001b[0m\n\u001b[0;32m---> 99\u001b[0;31m         allow_unreachable=True)  # allow_unreachable flag\n\u001b[0m\u001b[1;32m    100\u001b[0m \u001b[0;34m\u001b[0m\u001b[0m\n\u001b[1;32m    101\u001b[0m \u001b[0;34m\u001b[0m\u001b[0m\n",
      "\u001b[0;31mKeyboardInterrupt\u001b[0m: "
     ]
    }
   ],
   "source": [
    "lr = 0.0001\n",
    "batch_size = 256\n",
    "epochs = 400\n",
    "low_lr = 1e-7\n",
    "step_size = 5\n",
    "dropout = 0.4\n",
    "cycle_bool = True\n",
    "acc, net = train(lr, batch_size, epochs, low_lr, step_size, dropout, cycle_bool)"
   ]
  },
  {
   "cell_type": "code",
   "execution_count": 51,
   "metadata": {},
   "outputs": [
    {
     "data": {
      "text/plain": [
       "<matplotlib.axes._subplots.AxesSubplot at 0x7f11da392fd0>"
      ]
     },
     "execution_count": 51,
     "metadata": {},
     "output_type": "execute_result"
    },
    {
     "data": {
      "image/png": "[encoded data removed]",
      "text/plain": [
       "<Figure size 432x288 with 1 Axes>"
      ]
     },
     "metadata": {
      "needs_background": "light"
     },
     "output_type": "display_data"
    }
   ],
   "source": [
    "y_train_df[target].value_counts().plot(kind=\"bar\")"
   ]
  },
  {
   "cell_type": "raw",
   "metadata": {},
   "source": [
    "lr = 0.0003\n",
    "batch_size = 256\n",
    "epochs = 400\n",
    "low_lr = 1e-7\n",
    "step_size = 10\n",
    "dropout = 0.3\n",
    "cycle_bool = False"
   ]
  },
  {
   "cell_type": "code",
   "execution_count": 53,
   "metadata": {},
   "outputs": [
    {
     "name": "stdout",
     "output_type": "stream",
     "text": [
      "Bad Frames: 0\n"
     ]
    }
   ],
   "source": [
    "frame = pd.read_csv('./adv_test.csv', index_col=False)\n",
    "target = \"Rating\"\n",
    "frame['Rating'].value_counts()\n",
    "frame = preprocess_sparse(frame)\n",
    "\n",
    "bucket_boundaries = [0, 24, 46, 100]\n",
    "discretizer = Discretize(bucket_boundaries)\n",
    "age = discretizer.fit_transform(frame[['Age']]).drop(['Age'],axis=1)\n",
    "frame1 = frame.loc[:,'Rating':'unfav']\n",
    "frame_sparse = frame1.loc[:,'Rating':'Mostwatchedtvprogrammes_Weather']\n",
    "frame_sparse = pd.concat((frame_sparse,age), axis=1)\n",
    "\n",
    "frame_x_text = frame.loc[:,'fav':'unfav']\n",
    "\n",
    "x_train_text = []\n",
    "for i in frame_x_text['fav']+frame_x_text['unfav']:\n",
    "    text = tokenizer(i)\n",
    "    x_train_text.append(text)\n",
    "    \n",
    "x_train_tokenized_sentences = np.array([[word_to_id[i] for i in j] for j in x_train_text])\n",
    "\n",
    "# # Pad tokens with 0s\n",
    "for i in range(len(x_train_tokenized_sentences)):\n",
    "    a = x_train_tokenized_sentences[i]\n",
    "    x_train_tokenized_sentences[i] = np.concatenate([a,np.zeros(max_len-len(a))])\n",
    "\n",
    "X_test_stats = frame_sparse.loc[:,'Gender_F':'Age_old']\n",
    "X_test_stats.to_csv('./processed_splits/X_test_stats.csv', index=False)\n",
    "X_test_text = frame_x_text\n",
    "X_test_text.to_csv('./processed_splits/X_test_text.csv', index=False)\n",
    "y_text_df  = pd.DataFrame(frame_sparse[target], columns=[target])\n",
    "y_text_df[target].values[y_text_df[target].values>1]=2\n",
    "y_text_df -= 1\n",
    "y_text_df.to_csv('./processed_splits/y_text_df.csv', index=False)"
   ]
  },
  {
   "cell_type": "code",
   "execution_count": 55,
   "metadata": {},
   "outputs": [
    {
     "name": "stdout",
     "output_type": "stream",
     "text": [
      "Testing Accuracy:  tensor(0.7504, device='cuda:0')\n"
     ]
    }
   ],
   "source": [
    "net = Classifier(train_embeddings, dropout=dropout).to(device)\n",
    "net.load_state_dict(torch.load(\"./model_info/9_June_age.pth\"))\n",
    "\n",
    "params = {\n",
    "        'batch_size': 1,\n",
    "        'shuffle': False,\n",
    "        'num_workers': 0\n",
    "    }\n",
    "testing_set = DataReader(X_test_stats, x_train_tokenized_sentences, y_text_df, target)\n",
    "test_loader = DataLoader(testing_set, **params)\n",
    "\n",
    "predictions = {}\n",
    "acc, a = 0, 0\n",
    "for x_sparse, x_text, y_test in test_loader:\n",
    "    with torch.set_grad_enabled(False):\n",
    "        a += 1\n",
    "#         net.eval()\n",
    "        x_sparse, x_text, y_test = x_sparse.to(device, dtype = torch.int64), x_text.to(device, dtype = torch.int64), y_test.to(device)\n",
    "        y_pred = net(x_sparse,x_text)\n",
    "        acc += (y_pred.argmax(dim=1) == y_test).sum().float() / float(y_test.size(0))\n",
    "        predictions[a] = [*x_sparse.cpu().numpy(), y_pred.argmax(dim=1).item(),y_test.item()]\n",
    "acc /= a\n",
    "print(\"Testing Accuracy: \", acc)"
   ]
  },
  {
   "cell_type": "code",
   "execution_count": 56,
   "metadata": {
    "scrolled": true
   },
   "outputs": [],
   "source": [
    "rows = []\n",
    "for i in predictions:\n",
    "    rows.append([*list(predictions[i][0]),predictions[i][1],predictions[i][2]])\n",
    "result = pd.DataFrame(rows, columns=[*X_test_stats.columns,'y_pred','y_test'])"
   ]
  },
  {
   "cell_type": "code",
   "execution_count": 57,
   "metadata": {},
   "outputs": [
    {
     "data": {
      "text/html": [
       "<div>\n",
       "<style scoped>\n",
       "    .dataframe tbody tr th:only-of-type {\n",
       "        vertical-align: middle;\n",
       "    }\n",
       "\n",
       "    .dataframe tbody tr th {\n",
       "        vertical-align: top;\n",
       "    }\n",
       "\n",
       "    .dataframe thead th {\n",
       "        text-align: right;\n",
       "    }\n",
       "</style>\n",
       "<table border=\"1\" class=\"dataframe\">\n",
       "  <thead>\n",
       "    <tr style=\"text-align: right;\">\n",
       "      <th></th>\n",
       "      <th>0</th>\n",
       "      <th>1</th>\n",
       "      <th>accuracy</th>\n",
       "      <th>macro avg</th>\n",
       "      <th>weighted avg</th>\n",
       "    </tr>\n",
       "  </thead>\n",
       "  <tbody>\n",
       "    <tr>\n",
       "      <th>f1-score</th>\n",
       "      <td>0.789043</td>\n",
       "      <td>0.694487</td>\n",
       "      <td>0.750421</td>\n",
       "      <td>0.741765</td>\n",
       "      <td>0.753847</td>\n",
       "    </tr>\n",
       "    <tr>\n",
       "      <th>precision</th>\n",
       "      <td>0.840534</td>\n",
       "      <td>0.637895</td>\n",
       "      <td>0.750421</td>\n",
       "      <td>0.739214</td>\n",
       "      <td>0.765107</td>\n",
       "    </tr>\n",
       "    <tr>\n",
       "      <th>recall</th>\n",
       "      <td>0.743497</td>\n",
       "      <td>0.762099</td>\n",
       "      <td>0.750421</td>\n",
       "      <td>0.752798</td>\n",
       "      <td>0.750421</td>\n",
       "    </tr>\n",
       "    <tr>\n",
       "      <th>support</th>\n",
       "      <td>7458.000000</td>\n",
       "      <td>4422.000000</td>\n",
       "      <td>0.750421</td>\n",
       "      <td>11880.000000</td>\n",
       "      <td>11880.000000</td>\n",
       "    </tr>\n",
       "  </tbody>\n",
       "</table>\n",
       "</div>"
      ],
      "text/plain": [
       "                     0            1  accuracy     macro avg  weighted avg\n",
       "f1-score      0.789043     0.694487  0.750421      0.741765      0.753847\n",
       "precision     0.840534     0.637895  0.750421      0.739214      0.765107\n",
       "recall        0.743497     0.762099  0.750421      0.752798      0.750421\n",
       "support    7458.000000  4422.000000  0.750421  11880.000000  11880.000000"
      ]
     },
     "execution_count": 57,
     "metadata": {},
     "output_type": "execute_result"
    }
   ],
   "source": [
    "pd.DataFrame(classification_report(result['y_pred'], result['y_test'], output_dict=True))"
   ]
  },
  {
   "cell_type": "code",
   "execution_count": 58,
   "metadata": {},
   "outputs": [],
   "source": [
    "g = []\n",
    "for i,j in zip(result['Gender_F'], result['Gender_M']):\n",
    "    if i==1: g.append('F')\n",
    "    else: g.append('M')\n",
    "gender = pd.DataFrame(g,columns=[\"Gender\"])\n",
    "a = []\n",
    "for i,j,k in zip(result['Age_young'], result['Age_middle_aged'], result['Age_old']):\n",
    "    if i==1: a.append(0)\n",
    "    elif j==1: a.append(1)\n",
    "    elif k==1: a.append(2)\n",
    "age = pd.DataFrame(a,columns=[\"Age\"])\n",
    "a = []\n",
    "for i,j,k,l in zip(result['Income_0'], result['Income_1'], result['Income_2'], result['Income_3']):\n",
    "    if i==1: a.append(0)\n",
    "    elif j==1: a.append(1)\n",
    "    elif k==1: a.append(2)\n",
    "    elif l==1: a.append(3)\n",
    "income = pd.DataFrame(a,columns=[\"Income\"])"
   ]
  },
  {
   "cell_type": "code",
   "execution_count": 59,
   "metadata": {
    "scrolled": true
   },
   "outputs": [
    {
     "data": {
      "text/html": [
       "<div>\n",
       "<style scoped>\n",
       "    .dataframe tbody tr th:only-of-type {\n",
       "        vertical-align: middle;\n",
       "    }\n",
       "\n",
       "    .dataframe tbody tr th {\n",
       "        vertical-align: top;\n",
       "    }\n",
       "\n",
       "    .dataframe thead th {\n",
       "        text-align: right;\n",
       "    }\n",
       "</style>\n",
       "<table border=\"1\" class=\"dataframe\">\n",
       "  <thead>\n",
       "    <tr style=\"text-align: right;\">\n",
       "      <th></th>\n",
       "      <th>AdId</th>\n",
       "      <th>Gender</th>\n",
       "      <th>Age</th>\n",
       "      <th>Income</th>\n",
       "      <th>Homecountry</th>\n",
       "      <th>y_pred</th>\n",
       "      <th>y_test</th>\n",
       "    </tr>\n",
       "  </thead>\n",
       "  <tbody>\n",
       "    <tr>\n",
       "      <th>0</th>\n",
       "      <td>A18_07</td>\n",
       "      <td>F</td>\n",
       "      <td>1</td>\n",
       "      <td>2</td>\n",
       "      <td>Canada</td>\n",
       "      <td>0</td>\n",
       "      <td>0</td>\n",
       "    </tr>\n",
       "    <tr>\n",
       "      <th>1</th>\n",
       "      <td>A12_15</td>\n",
       "      <td>M</td>\n",
       "      <td>0</td>\n",
       "      <td>2</td>\n",
       "      <td>UnitedKingdom</td>\n",
       "      <td>1</td>\n",
       "      <td>1</td>\n",
       "    </tr>\n",
       "    <tr>\n",
       "      <th>2</th>\n",
       "      <td>A17_01</td>\n",
       "      <td>M</td>\n",
       "      <td>0</td>\n",
       "      <td>2</td>\n",
       "      <td>UnitedKingdom</td>\n",
       "      <td>1</td>\n",
       "      <td>1</td>\n",
       "    </tr>\n",
       "    <tr>\n",
       "      <th>3</th>\n",
       "      <td>A10_01</td>\n",
       "      <td>M</td>\n",
       "      <td>1</td>\n",
       "      <td>1</td>\n",
       "      <td>UnitedKingdom</td>\n",
       "      <td>1</td>\n",
       "      <td>1</td>\n",
       "    </tr>\n",
       "    <tr>\n",
       "      <th>4</th>\n",
       "      <td>A10_06</td>\n",
       "      <td>M</td>\n",
       "      <td>1</td>\n",
       "      <td>2</td>\n",
       "      <td>UnitedStatesofAmerica</td>\n",
       "      <td>1</td>\n",
       "      <td>1</td>\n",
       "    </tr>\n",
       "    <tr>\n",
       "      <th>5</th>\n",
       "      <td>A14_06</td>\n",
       "      <td>F</td>\n",
       "      <td>0</td>\n",
       "      <td>1</td>\n",
       "      <td>UnitedStatesofAmerica</td>\n",
       "      <td>1</td>\n",
       "      <td>0</td>\n",
       "    </tr>\n",
       "    <tr>\n",
       "      <th>6</th>\n",
       "      <td>A06_06</td>\n",
       "      <td>M</td>\n",
       "      <td>0</td>\n",
       "      <td>3</td>\n",
       "      <td>Canada</td>\n",
       "      <td>1</td>\n",
       "      <td>1</td>\n",
       "    </tr>\n",
       "    <tr>\n",
       "      <th>7</th>\n",
       "      <td>A20_01</td>\n",
       "      <td>F</td>\n",
       "      <td>0</td>\n",
       "      <td>0</td>\n",
       "      <td>Canada</td>\n",
       "      <td>0</td>\n",
       "      <td>0</td>\n",
       "    </tr>\n",
       "    <tr>\n",
       "      <th>8</th>\n",
       "      <td>A12_05</td>\n",
       "      <td>M</td>\n",
       "      <td>1</td>\n",
       "      <td>2</td>\n",
       "      <td>Canada</td>\n",
       "      <td>1</td>\n",
       "      <td>0</td>\n",
       "    </tr>\n",
       "    <tr>\n",
       "      <th>9</th>\n",
       "      <td>A05_09</td>\n",
       "      <td>M</td>\n",
       "      <td>1</td>\n",
       "      <td>2</td>\n",
       "      <td>UnitedStatesofAmerica</td>\n",
       "      <td>1</td>\n",
       "      <td>0</td>\n",
       "    </tr>\n",
       "    <tr>\n",
       "      <th>10</th>\n",
       "      <td>A02_03</td>\n",
       "      <td>F</td>\n",
       "      <td>0</td>\n",
       "      <td>0</td>\n",
       "      <td>Canada</td>\n",
       "      <td>0</td>\n",
       "      <td>1</td>\n",
       "    </tr>\n",
       "    <tr>\n",
       "      <th>11</th>\n",
       "      <td>A12_14</td>\n",
       "      <td>M</td>\n",
       "      <td>0</td>\n",
       "      <td>3</td>\n",
       "      <td>Canada</td>\n",
       "      <td>1</td>\n",
       "      <td>0</td>\n",
       "    </tr>\n",
       "    <tr>\n",
       "      <th>12</th>\n",
       "      <td>A19_02</td>\n",
       "      <td>F</td>\n",
       "      <td>0</td>\n",
       "      <td>1</td>\n",
       "      <td>UnitedKingdom</td>\n",
       "      <td>0</td>\n",
       "      <td>1</td>\n",
       "    </tr>\n",
       "    <tr>\n",
       "      <th>13</th>\n",
       "      <td>A18_04</td>\n",
       "      <td>M</td>\n",
       "      <td>2</td>\n",
       "      <td>0</td>\n",
       "      <td>UnitedStatesofAmerica</td>\n",
       "      <td>0</td>\n",
       "      <td>0</td>\n",
       "    </tr>\n",
       "    <tr>\n",
       "      <th>14</th>\n",
       "      <td>A13_09</td>\n",
       "      <td>M</td>\n",
       "      <td>0</td>\n",
       "      <td>1</td>\n",
       "      <td>UnitedKingdom</td>\n",
       "      <td>0</td>\n",
       "      <td>0</td>\n",
       "    </tr>\n",
       "    <tr>\n",
       "      <th>15</th>\n",
       "      <td>A09_11</td>\n",
       "      <td>F</td>\n",
       "      <td>1</td>\n",
       "      <td>2</td>\n",
       "      <td>UnitedStatesofAmerica</td>\n",
       "      <td>0</td>\n",
       "      <td>0</td>\n",
       "    </tr>\n",
       "    <tr>\n",
       "      <th>16</th>\n",
       "      <td>A14_04</td>\n",
       "      <td>F</td>\n",
       "      <td>0</td>\n",
       "      <td>3</td>\n",
       "      <td>UnitedStatesofAmerica</td>\n",
       "      <td>1</td>\n",
       "      <td>1</td>\n",
       "    </tr>\n",
       "    <tr>\n",
       "      <th>17</th>\n",
       "      <td>A05_12</td>\n",
       "      <td>M</td>\n",
       "      <td>1</td>\n",
       "      <td>1</td>\n",
       "      <td>UnitedStatesofAmerica</td>\n",
       "      <td>1</td>\n",
       "      <td>1</td>\n",
       "    </tr>\n",
       "    <tr>\n",
       "      <th>18</th>\n",
       "      <td>A01_11</td>\n",
       "      <td>M</td>\n",
       "      <td>1</td>\n",
       "      <td>1</td>\n",
       "      <td>UnitedStatesofAmerica</td>\n",
       "      <td>0</td>\n",
       "      <td>1</td>\n",
       "    </tr>\n",
       "    <tr>\n",
       "      <th>19</th>\n",
       "      <td>A07_07</td>\n",
       "      <td>F</td>\n",
       "      <td>2</td>\n",
       "      <td>1</td>\n",
       "      <td>UnitedStatesofAmerica</td>\n",
       "      <td>0</td>\n",
       "      <td>0</td>\n",
       "    </tr>\n",
       "    <tr>\n",
       "      <th>20</th>\n",
       "      <td>A08_03</td>\n",
       "      <td>M</td>\n",
       "      <td>2</td>\n",
       "      <td>1</td>\n",
       "      <td>Canada</td>\n",
       "      <td>1</td>\n",
       "      <td>1</td>\n",
       "    </tr>\n",
       "    <tr>\n",
       "      <th>21</th>\n",
       "      <td>A13_03</td>\n",
       "      <td>F</td>\n",
       "      <td>2</td>\n",
       "      <td>0</td>\n",
       "      <td>UnitedKingdom</td>\n",
       "      <td>1</td>\n",
       "      <td>1</td>\n",
       "    </tr>\n",
       "    <tr>\n",
       "      <th>22</th>\n",
       "      <td>A14_08</td>\n",
       "      <td>M</td>\n",
       "      <td>0</td>\n",
       "      <td>0</td>\n",
       "      <td>Phillipines</td>\n",
       "      <td>0</td>\n",
       "      <td>0</td>\n",
       "    </tr>\n",
       "    <tr>\n",
       "      <th>23</th>\n",
       "      <td>A15_11</td>\n",
       "      <td>M</td>\n",
       "      <td>0</td>\n",
       "      <td>2</td>\n",
       "      <td>Slovenia</td>\n",
       "      <td>0</td>\n",
       "      <td>0</td>\n",
       "    </tr>\n",
       "    <tr>\n",
       "      <th>24</th>\n",
       "      <td>A08_10</td>\n",
       "      <td>F</td>\n",
       "      <td>2</td>\n",
       "      <td>1</td>\n",
       "      <td>UnitedStatesofAmerica</td>\n",
       "      <td>1</td>\n",
       "      <td>1</td>\n",
       "    </tr>\n",
       "    <tr>\n",
       "      <th>25</th>\n",
       "      <td>A11_05</td>\n",
       "      <td>F</td>\n",
       "      <td>1</td>\n",
       "      <td>2</td>\n",
       "      <td>UnitedKingdom</td>\n",
       "      <td>1</td>\n",
       "      <td>1</td>\n",
       "    </tr>\n",
       "    <tr>\n",
       "      <th>26</th>\n",
       "      <td>A15_10</td>\n",
       "      <td>F</td>\n",
       "      <td>1</td>\n",
       "      <td>3</td>\n",
       "      <td>UnitedStatesofAmerica</td>\n",
       "      <td>1</td>\n",
       "      <td>1</td>\n",
       "    </tr>\n",
       "    <tr>\n",
       "      <th>27</th>\n",
       "      <td>A05_11</td>\n",
       "      <td>F</td>\n",
       "      <td>1</td>\n",
       "      <td>1</td>\n",
       "      <td>UnitedStatesofAmerica</td>\n",
       "      <td>1</td>\n",
       "      <td>1</td>\n",
       "    </tr>\n",
       "    <tr>\n",
       "      <th>28</th>\n",
       "      <td>A14_11</td>\n",
       "      <td>F</td>\n",
       "      <td>1</td>\n",
       "      <td>3</td>\n",
       "      <td>UnitedStatesofAmerica</td>\n",
       "      <td>1</td>\n",
       "      <td>1</td>\n",
       "    </tr>\n",
       "    <tr>\n",
       "      <th>29</th>\n",
       "      <td>A13_10</td>\n",
       "      <td>M</td>\n",
       "      <td>1</td>\n",
       "      <td>1</td>\n",
       "      <td>India</td>\n",
       "      <td>1</td>\n",
       "      <td>1</td>\n",
       "    </tr>\n",
       "    <tr>\n",
       "      <th>...</th>\n",
       "      <td>...</td>\n",
       "      <td>...</td>\n",
       "      <td>...</td>\n",
       "      <td>...</td>\n",
       "      <td>...</td>\n",
       "      <td>...</td>\n",
       "      <td>...</td>\n",
       "    </tr>\n",
       "    <tr>\n",
       "      <th>11850</th>\n",
       "      <td>A14_10</td>\n",
       "      <td>F</td>\n",
       "      <td>1</td>\n",
       "      <td>1</td>\n",
       "      <td>UnitedStatesofAmerica</td>\n",
       "      <td>0</td>\n",
       "      <td>1</td>\n",
       "    </tr>\n",
       "    <tr>\n",
       "      <th>11851</th>\n",
       "      <td>A02_13</td>\n",
       "      <td>F</td>\n",
       "      <td>0</td>\n",
       "      <td>3</td>\n",
       "      <td>UnitedStatesofAmerica</td>\n",
       "      <td>0</td>\n",
       "      <td>0</td>\n",
       "    </tr>\n",
       "    <tr>\n",
       "      <th>11852</th>\n",
       "      <td>A14_07</td>\n",
       "      <td>F</td>\n",
       "      <td>2</td>\n",
       "      <td>1</td>\n",
       "      <td>Canada</td>\n",
       "      <td>0</td>\n",
       "      <td>0</td>\n",
       "    </tr>\n",
       "    <tr>\n",
       "      <th>11853</th>\n",
       "      <td>A07_01</td>\n",
       "      <td>F</td>\n",
       "      <td>1</td>\n",
       "      <td>1</td>\n",
       "      <td>UnitedStatesofAmerica</td>\n",
       "      <td>1</td>\n",
       "      <td>0</td>\n",
       "    </tr>\n",
       "    <tr>\n",
       "      <th>11854</th>\n",
       "      <td>A16_08</td>\n",
       "      <td>F</td>\n",
       "      <td>1</td>\n",
       "      <td>2</td>\n",
       "      <td>UnitedStatesofAmerica</td>\n",
       "      <td>0</td>\n",
       "      <td>0</td>\n",
       "    </tr>\n",
       "    <tr>\n",
       "      <th>11855</th>\n",
       "      <td>A16_02</td>\n",
       "      <td>F</td>\n",
       "      <td>0</td>\n",
       "      <td>0</td>\n",
       "      <td>UnitedStatesofAmerica</td>\n",
       "      <td>0</td>\n",
       "      <td>0</td>\n",
       "    </tr>\n",
       "    <tr>\n",
       "      <th>11856</th>\n",
       "      <td>A08_03</td>\n",
       "      <td>F</td>\n",
       "      <td>1</td>\n",
       "      <td>1</td>\n",
       "      <td>UnitedStatesofAmerica</td>\n",
       "      <td>0</td>\n",
       "      <td>0</td>\n",
       "    </tr>\n",
       "    <tr>\n",
       "      <th>11857</th>\n",
       "      <td>A12_06</td>\n",
       "      <td>F</td>\n",
       "      <td>0</td>\n",
       "      <td>0</td>\n",
       "      <td>UnitedStatesofAmerica</td>\n",
       "      <td>0</td>\n",
       "      <td>1</td>\n",
       "    </tr>\n",
       "    <tr>\n",
       "      <th>11858</th>\n",
       "      <td>A07_07</td>\n",
       "      <td>M</td>\n",
       "      <td>0</td>\n",
       "      <td>1</td>\n",
       "      <td>UnitedStatesofAmerica</td>\n",
       "      <td>1</td>\n",
       "      <td>1</td>\n",
       "    </tr>\n",
       "    <tr>\n",
       "      <th>11859</th>\n",
       "      <td>A08_03</td>\n",
       "      <td>M</td>\n",
       "      <td>0</td>\n",
       "      <td>2</td>\n",
       "      <td>UnitedStatesofAmerica</td>\n",
       "      <td>0</td>\n",
       "      <td>0</td>\n",
       "    </tr>\n",
       "    <tr>\n",
       "      <th>11860</th>\n",
       "      <td>A12_05</td>\n",
       "      <td>F</td>\n",
       "      <td>0</td>\n",
       "      <td>1</td>\n",
       "      <td>UnitedStatesofAmerica</td>\n",
       "      <td>0</td>\n",
       "      <td>0</td>\n",
       "    </tr>\n",
       "    <tr>\n",
       "      <th>11861</th>\n",
       "      <td>A07_14</td>\n",
       "      <td>M</td>\n",
       "      <td>0</td>\n",
       "      <td>1</td>\n",
       "      <td>UnitedKingdom</td>\n",
       "      <td>0</td>\n",
       "      <td>0</td>\n",
       "    </tr>\n",
       "    <tr>\n",
       "      <th>11862</th>\n",
       "      <td>A10_13</td>\n",
       "      <td>M</td>\n",
       "      <td>2</td>\n",
       "      <td>1</td>\n",
       "      <td>UnitedStatesofAmerica</td>\n",
       "      <td>0</td>\n",
       "      <td>1</td>\n",
       "    </tr>\n",
       "    <tr>\n",
       "      <th>11863</th>\n",
       "      <td>A08_01</td>\n",
       "      <td>F</td>\n",
       "      <td>2</td>\n",
       "      <td>0</td>\n",
       "      <td>UnitedStatesofAmerica</td>\n",
       "      <td>0</td>\n",
       "      <td>0</td>\n",
       "    </tr>\n",
       "    <tr>\n",
       "      <th>11864</th>\n",
       "      <td>A11_15</td>\n",
       "      <td>M</td>\n",
       "      <td>2</td>\n",
       "      <td>1</td>\n",
       "      <td>Canada</td>\n",
       "      <td>1</td>\n",
       "      <td>1</td>\n",
       "    </tr>\n",
       "    <tr>\n",
       "      <th>11865</th>\n",
       "      <td>A17_12</td>\n",
       "      <td>F</td>\n",
       "      <td>1</td>\n",
       "      <td>1</td>\n",
       "      <td>CzechRepublic</td>\n",
       "      <td>1</td>\n",
       "      <td>1</td>\n",
       "    </tr>\n",
       "    <tr>\n",
       "      <th>11866</th>\n",
       "      <td>A02_01</td>\n",
       "      <td>M</td>\n",
       "      <td>0</td>\n",
       "      <td>2</td>\n",
       "      <td>UnitedStatesofAmerica</td>\n",
       "      <td>0</td>\n",
       "      <td>0</td>\n",
       "    </tr>\n",
       "    <tr>\n",
       "      <th>11867</th>\n",
       "      <td>A12_11</td>\n",
       "      <td>F</td>\n",
       "      <td>1</td>\n",
       "      <td>2</td>\n",
       "      <td>UnitedKingdom</td>\n",
       "      <td>1</td>\n",
       "      <td>1</td>\n",
       "    </tr>\n",
       "    <tr>\n",
       "      <th>11868</th>\n",
       "      <td>A13_05</td>\n",
       "      <td>F</td>\n",
       "      <td>1</td>\n",
       "      <td>1</td>\n",
       "      <td>UnitedStatesofAmerica</td>\n",
       "      <td>0</td>\n",
       "      <td>0</td>\n",
       "    </tr>\n",
       "    <tr>\n",
       "      <th>11869</th>\n",
       "      <td>A13_03</td>\n",
       "      <td>F</td>\n",
       "      <td>1</td>\n",
       "      <td>2</td>\n",
       "      <td>UnitedStatesofAmerica</td>\n",
       "      <td>0</td>\n",
       "      <td>0</td>\n",
       "    </tr>\n",
       "    <tr>\n",
       "      <th>11870</th>\n",
       "      <td>A19_15</td>\n",
       "      <td>M</td>\n",
       "      <td>1</td>\n",
       "      <td>1</td>\n",
       "      <td>UnitedStatesofAmerica</td>\n",
       "      <td>1</td>\n",
       "      <td>1</td>\n",
       "    </tr>\n",
       "    <tr>\n",
       "      <th>11871</th>\n",
       "      <td>A01_06</td>\n",
       "      <td>F</td>\n",
       "      <td>0</td>\n",
       "      <td>1</td>\n",
       "      <td>UnitedKingdom</td>\n",
       "      <td>0</td>\n",
       "      <td>0</td>\n",
       "    </tr>\n",
       "    <tr>\n",
       "      <th>11872</th>\n",
       "      <td>A08_12</td>\n",
       "      <td>M</td>\n",
       "      <td>2</td>\n",
       "      <td>1</td>\n",
       "      <td>UnitedStatesofAmerica</td>\n",
       "      <td>0</td>\n",
       "      <td>1</td>\n",
       "    </tr>\n",
       "    <tr>\n",
       "      <th>11873</th>\n",
       "      <td>A05_03</td>\n",
       "      <td>F</td>\n",
       "      <td>0</td>\n",
       "      <td>1</td>\n",
       "      <td>Canada</td>\n",
       "      <td>0</td>\n",
       "      <td>0</td>\n",
       "    </tr>\n",
       "    <tr>\n",
       "      <th>11874</th>\n",
       "      <td>A20_08</td>\n",
       "      <td>M</td>\n",
       "      <td>1</td>\n",
       "      <td>0</td>\n",
       "      <td>UnitedKingdom</td>\n",
       "      <td>0</td>\n",
       "      <td>0</td>\n",
       "    </tr>\n",
       "    <tr>\n",
       "      <th>11875</th>\n",
       "      <td>A12_12</td>\n",
       "      <td>F</td>\n",
       "      <td>0</td>\n",
       "      <td>0</td>\n",
       "      <td>UnitedStatesofAmerica</td>\n",
       "      <td>0</td>\n",
       "      <td>0</td>\n",
       "    </tr>\n",
       "    <tr>\n",
       "      <th>11876</th>\n",
       "      <td>A01_13</td>\n",
       "      <td>F</td>\n",
       "      <td>1</td>\n",
       "      <td>1</td>\n",
       "      <td>UnitedStatesofAmerica</td>\n",
       "      <td>1</td>\n",
       "      <td>0</td>\n",
       "    </tr>\n",
       "    <tr>\n",
       "      <th>11877</th>\n",
       "      <td>A02_07</td>\n",
       "      <td>M</td>\n",
       "      <td>2</td>\n",
       "      <td>1</td>\n",
       "      <td>UnitedStatesofAmerica</td>\n",
       "      <td>0</td>\n",
       "      <td>0</td>\n",
       "    </tr>\n",
       "    <tr>\n",
       "      <th>11878</th>\n",
       "      <td>A12_09</td>\n",
       "      <td>F</td>\n",
       "      <td>1</td>\n",
       "      <td>3</td>\n",
       "      <td>UnitedStatesofAmerica</td>\n",
       "      <td>0</td>\n",
       "      <td>0</td>\n",
       "    </tr>\n",
       "    <tr>\n",
       "      <th>11879</th>\n",
       "      <td>A10_12</td>\n",
       "      <td>F</td>\n",
       "      <td>1</td>\n",
       "      <td>1</td>\n",
       "      <td>UnitedKingdom</td>\n",
       "      <td>0</td>\n",
       "      <td>0</td>\n",
       "    </tr>\n",
       "  </tbody>\n",
       "</table>\n",
       "<p>11880 rows × 7 columns</p>\n",
       "</div>"
      ],
      "text/plain": [
       "         AdId Gender  Age  Income            Homecountry  y_pred  y_test\n",
       "0      A18_07      F    1       2                 Canada       0       0\n",
       "1      A12_15      M    0       2          UnitedKingdom       1       1\n",
       "2      A17_01      M    0       2          UnitedKingdom       1       1\n",
       "3      A10_01      M    1       1          UnitedKingdom       1       1\n",
       "4      A10_06      M    1       2  UnitedStatesofAmerica       1       1\n",
       "5      A14_06      F    0       1  UnitedStatesofAmerica       1       0\n",
       "6      A06_06      M    0       3                 Canada       1       1\n",
       "7      A20_01      F    0       0                 Canada       0       0\n",
       "8      A12_05      M    1       2                 Canada       1       0\n",
       "9      A05_09      M    1       2  UnitedStatesofAmerica       1       0\n",
       "10     A02_03      F    0       0                 Canada       0       1\n",
       "11     A12_14      M    0       3                 Canada       1       0\n",
       "12     A19_02      F    0       1          UnitedKingdom       0       1\n",
       "13     A18_04      M    2       0  UnitedStatesofAmerica       0       0\n",
       "14     A13_09      M    0       1          UnitedKingdom       0       0\n",
       "15     A09_11      F    1       2  UnitedStatesofAmerica       0       0\n",
       "16     A14_04      F    0       3  UnitedStatesofAmerica       1       1\n",
       "17     A05_12      M    1       1  UnitedStatesofAmerica       1       1\n",
       "18     A01_11      M    1       1  UnitedStatesofAmerica       0       1\n",
       "19     A07_07      F    2       1  UnitedStatesofAmerica       0       0\n",
       "20     A08_03      M    2       1                 Canada       1       1\n",
       "21     A13_03      F    2       0          UnitedKingdom       1       1\n",
       "22     A14_08      M    0       0            Phillipines       0       0\n",
       "23     A15_11      M    0       2               Slovenia       0       0\n",
       "24     A08_10      F    2       1  UnitedStatesofAmerica       1       1\n",
       "25     A11_05      F    1       2          UnitedKingdom       1       1\n",
       "26     A15_10      F    1       3  UnitedStatesofAmerica       1       1\n",
       "27     A05_11      F    1       1  UnitedStatesofAmerica       1       1\n",
       "28     A14_11      F    1       3  UnitedStatesofAmerica       1       1\n",
       "29     A13_10      M    1       1                  India       1       1\n",
       "...       ...    ...  ...     ...                    ...     ...     ...\n",
       "11850  A14_10      F    1       1  UnitedStatesofAmerica       0       1\n",
       "11851  A02_13      F    0       3  UnitedStatesofAmerica       0       0\n",
       "11852  A14_07      F    2       1                 Canada       0       0\n",
       "11853  A07_01      F    1       1  UnitedStatesofAmerica       1       0\n",
       "11854  A16_08      F    1       2  UnitedStatesofAmerica       0       0\n",
       "11855  A16_02      F    0       0  UnitedStatesofAmerica       0       0\n",
       "11856  A08_03      F    1       1  UnitedStatesofAmerica       0       0\n",
       "11857  A12_06      F    0       0  UnitedStatesofAmerica       0       1\n",
       "11858  A07_07      M    0       1  UnitedStatesofAmerica       1       1\n",
       "11859  A08_03      M    0       2  UnitedStatesofAmerica       0       0\n",
       "11860  A12_05      F    0       1  UnitedStatesofAmerica       0       0\n",
       "11861  A07_14      M    0       1          UnitedKingdom       0       0\n",
       "11862  A10_13      M    2       1  UnitedStatesofAmerica       0       1\n",
       "11863  A08_01      F    2       0  UnitedStatesofAmerica       0       0\n",
       "11864  A11_15      M    2       1                 Canada       1       1\n",
       "11865  A17_12      F    1       1          CzechRepublic       1       1\n",
       "11866  A02_01      M    0       2  UnitedStatesofAmerica       0       0\n",
       "11867  A12_11      F    1       2          UnitedKingdom       1       1\n",
       "11868  A13_05      F    1       1  UnitedStatesofAmerica       0       0\n",
       "11869  A13_03      F    1       2  UnitedStatesofAmerica       0       0\n",
       "11870  A19_15      M    1       1  UnitedStatesofAmerica       1       1\n",
       "11871  A01_06      F    0       1          UnitedKingdom       0       0\n",
       "11872  A08_12      M    2       1  UnitedStatesofAmerica       0       1\n",
       "11873  A05_03      F    0       1                 Canada       0       0\n",
       "11874  A20_08      M    1       0          UnitedKingdom       0       0\n",
       "11875  A12_12      F    0       0  UnitedStatesofAmerica       0       0\n",
       "11876  A01_13      F    1       1  UnitedStatesofAmerica       1       0\n",
       "11877  A02_07      M    2       1  UnitedStatesofAmerica       0       0\n",
       "11878  A12_09      F    1       3  UnitedStatesofAmerica       0       0\n",
       "11879  A10_12      F    1       1          UnitedKingdom       0       0\n",
       "\n",
       "[11880 rows x 7 columns]"
      ]
     },
     "execution_count": 59,
     "metadata": {},
     "output_type": "execute_result"
    }
   ],
   "source": [
    "hc = result[result.columns[result.columns.to_series().str.contains('Homecountry')]]\n",
    "countries = []\n",
    "for i in range(hc.shape[0]):\n",
    "    tmp = hc.loc[i]\n",
    "    l = np.where(tmp.values==1)[0][0]\n",
    "    countries.append(hc.columns[l].split('_')[-1])\n",
    "Homecountry = pd.DataFrame(countries, columns=['Homecountry'])\n",
    "adid = frame['AdId']\n",
    "result_metrics = pd.concat([adid,gender,age,income,Homecountry,result.loc[:,'y_pred':'y_test']], axis=1)\n",
    "result_metrics"
   ]
  },
  {
   "cell_type": "code",
   "execution_count": 60,
   "metadata": {},
   "outputs": [],
   "source": [
    "def metrics_from_df(df:pd.DataFrame, confidence_threshold=0):\n",
    "    \"\"\"Drop examples with probability < confidence_threshold from calc\"\"\"\n",
    "    y_true = df['y_pred']\n",
    "    y_pred = df['y_test']\n",
    "    cnf_matrix = confusion_matrix(y_true, y_pred)\n",
    "    \n",
    "    FP = cnf_matrix.sum(axis=0) - np.diag(cnf_matrix)  \n",
    "    FN = cnf_matrix.sum(axis=1) - np.diag(cnf_matrix)\n",
    "    TP = np.diag(cnf_matrix)\n",
    "    TN = cnf_matrix.sum() - (FP + FN + TP)\n",
    "\n",
    "    FP = FP.astype(float)\n",
    "    FN = FN.astype(float)\n",
    "    TP = TP.astype(float)\n",
    "    TN = TN.astype(float)\n",
    "\n",
    "    # Sensitivity, hit rate, recall, or true positive rate\n",
    "    TPR = TP/(TP+FN)\n",
    "    # Specificity or true negative rate\n",
    "    TNR = TN/(TN+FP) \n",
    "    # Precision or positive predictive value\n",
    "    PPV = TP/(TP+FP)\n",
    "    # Negative predictive value\n",
    "    NPV = TN/(TN+FN)\n",
    "    # Fall out or false positive rate\n",
    "    FPR = FP/(FP+TN)\n",
    "    # False negative rate\n",
    "    FNR = FN/(TP+FN)\n",
    "    # False discovery rate\n",
    "    FDR = FP/(TP+FP)\n",
    "    # Overall accuracy\n",
    "    ACC = (TP+TN)/(TP+FP+FN+TN)\n",
    "    \n",
    "    return {\n",
    "        \"TPR\": TPR, \"TNR\": TNR, \"PPV\": PPV, \"NPV\": NPV, \"FPR\": FPR, \"FNR\": FNR, \"FDR\": FDR, \"ACC\": ACC\n",
    "    }\n",
    "\n",
    "class GroupFairnessMetrics:\n",
    "    def __init__(self, model_inference_data:pd.DataFrame, protected_feature:str):\n",
    "        \"\"\"\n",
    "        Compute fairness metrics between 2 groups of population - privileged & unprivileged\n",
    "        Based on your dataset you could use,\n",
    "            \"Female\" to privileged_grp_label and \n",
    "            \"Male\" to be unprivileged_grp_label\n",
    "        for Gender as the protected_feature\n",
    "        All metrics are computed on model_inference_data which has RATING and PREDICTED_RATING values for each row\n",
    "        \"\"\"\n",
    "        self._df, self._pf, = model_inference_data, protected_feature\n",
    "        self._base_metrics = \"fairness_metrics_per_class\"\n",
    "        self._pf_metrics_df = self._df.groupby(self._pf).apply(metrics_from_df).to_frame(self._base_metrics)\n",
    "    \n",
    "    def fetch_base_metrics(self):\n",
    "        return self._pf_metrics_df\n",
    "    \n",
    "    def equal_opportunity_difference(self, pg_lbl:str, upg_lbl:str, rating_class=1):\n",
    "        r\"\"\"TPR{unprivileged} - TPR{privileged} ideally should be zero\"\"\"\n",
    "        upg_opp = self._pf_metrics_df.loc[upg_lbl][self._base_metrics][\"TPR\"][rating_class]\n",
    "        pg_opp = self._pf_metrics_df.loc[pg_lbl][self._base_metrics][\"TPR\"][rating_class]\n",
    "        return upg_opp - pg_opp\n",
    "\n",
    "    def average_odds_difference(self, pg_lbl:str, upg_lbl:str, rating_class=1):\n",
    "        \"\"\"Average of difference in FPR and TPR for unprivileged and privileged groups\"\"\"\n",
    "        tpr_diff = self.equal_opportunity_difference(pg_lbl, upg_lbl, rating_class)\n",
    "        \n",
    "        upg_fpr = self._pf_metrics_df.loc[upg_lbl][self._base_metrics][\"FPR\"][rating_class]\n",
    "        pg_fpr = self._pf_metrics_df.loc[pg_lbl][self._base_metrics][\"FPR\"][rating_class]\n",
    "        fpr_diff = upg_fpr - pg_fpr\n",
    "        \n",
    "        return 0.5 * (fpr_diff + tpr_diff)\n",
    "    \n",
    "def plot_for_metric_class(metric_df:pd.DataFrame, metric:str=\"FPR\", rating_class:int=1):\n",
    "    \"\"\"Generates plot for metric and given rating_class from metric_df indexed by dimension of interest\"\"\"\n",
    "    plot_df = metric_df.apply(lambda m: m[\"fairness_metrics_per_class\"][metric][rating_class], axis=1)\n",
    "    plot_df = plot_df.reset_index().rename({0: metric}, axis=1)\n",
    "    return plot_df"
   ]
  },
  {
   "cell_type": "code",
   "execution_count": 61,
   "metadata": {},
   "outputs": [],
   "source": [
    "\"\"\"FOR WEB APP\"\"\"\n",
    "pickle.dump(result_metrics,open('./result_metrics/result_metrics_age','wb'))"
   ]
  },
  {
   "cell_type": "code",
   "execution_count": 69,
   "metadata": {},
   "outputs": [],
   "source": [
    "import seaborn as sns"
   ]
  },
  {
   "cell_type": "code",
   "execution_count": 63,
   "metadata": {},
   "outputs": [
    {
     "data": {
      "text/plain": [
       "([7645, 4235], ['F', 'M'])"
      ]
     },
     "execution_count": 63,
     "metadata": {},
     "output_type": "execute_result"
    }
   ],
   "source": [
    "result_metrics['Gender'].value_counts().to_list(),result_metrics['Gender'].unique().tolist()"
   ]
  },
  {
   "cell_type": "markdown",
   "metadata": {},
   "source": [
    "## Kitchen"
   ]
  },
  {
   "cell_type": "code",
   "execution_count": 64,
   "metadata": {
    "scrolled": true
   },
   "outputs": [
    {
     "name": "stdout",
     "output_type": "stream",
     "text": [
      "GENDER\n"
     ]
    },
    {
     "data": {
      "image/png": "[encoded data removed]",
      "text/plain": [
       "<Figure size 432x288 with 1 Axes>"
      ]
     },
     "metadata": {
      "needs_background": "light"
     },
     "output_type": "display_data"
    },
    {
     "data": {
      "image/png": "[encoded data removed]",
      "text/plain": [
       "<Figure size 432x288 with 1 Axes>"
      ]
     },
     "metadata": {
      "needs_background": "light"
     },
     "output_type": "display_data"
    },
    {
     "name": "stdout",
     "output_type": "stream",
     "text": [
      "Gender EOD:  0.023076923076923106\n",
      "Gender AOD:  -0.0021006821924252905\n",
      "AGE\n"
     ]
    },
    {
     "data": {
      "image/png": "[encoded data removed]",
      "text/plain": [
       "<Figure size 432x288 with 1 Axes>"
      ]
     },
     "metadata": {
      "needs_background": "light"
     },
     "output_type": "display_data"
    },
    {
     "data": {
      "image/png": "[encoded data removed]",
      "text/plain": [
       "<Figure size 432x288 with 1 Axes>"
      ]
     },
     "metadata": {
      "needs_background": "light"
     },
     "output_type": "display_data"
    },
    {
     "name": "stdout",
     "output_type": "stream",
     "text": [
      "Age EOD: 0.0980392156862745\t-0.021008403361344574\n",
      "Age AOD: 0.08580890550200013\t0.04375404007756947\n"
     ]
    }
   ],
   "source": [
    "kitchen_results = result_metrics[result_metrics['AdId'].str.startswith(\"A11_\")]\n",
    "print(\"GENDER\")\n",
    "ax = sns.countplot(kitchen_results['Gender']).set_title(\"Gender Data\")\n",
    "plt.show()\n",
    "gender_metrics_df = kitchen_results.groupby('Gender').apply(metrics_from_df).to_frame(\"fairness_metrics_per_class\")\n",
    "ax = sns.barplot(x='Gender', y=\"FPR\", data=plot_for_metric_class(gender_metrics_df)).set_title(\"Gender FPR\")\n",
    "plt.show()\n",
    "gender_fairness_metrics = GroupFairnessMetrics(kitchen_results, 'Gender')\n",
    "print(\"Gender EOD: \",gender_fairness_metrics.equal_opportunity_difference(\"F\", \"M\"))\n",
    "print(\"Gender AOD: \",gender_fairness_metrics.average_odds_difference(\"F\", \"M\"))\n",
    "\n",
    "print(\"AGE\")\n",
    "AGE = \"Age\"\n",
    "ax = sns.countplot(kitchen_results[AGE]).set_title(\"Age Data\")\n",
    "plt.show()\n",
    "age_metrics_df = kitchen_results.groupby(AGE).apply(metrics_from_df).to_frame(\"fairness_metrics_per_class\")\n",
    "ax = sns.barplot(x=AGE, y=\"FPR\", data=plot_for_metric_class(age_metrics_df)).set_title(\"Age FPR\")\n",
    "plt.show()\n",
    "age_gfm = GroupFairnessMetrics(kitchen_results, 'Age')\n",
    "print(f\"Age EOD: {age_gfm.equal_opportunity_difference(0, 1)}\\t{age_gfm.equal_opportunity_difference(0, 2)}\")\n",
    "print(f\"Age AOD: {age_gfm.average_odds_difference(0, 1)}\\t{age_gfm.average_odds_difference(0, 2)}\")\n",
    "\n",
    "\n",
    "# print(\"INCOME\")\n",
    "# INCOME = \"Income\"\n",
    "# ax = sns.countplot(kitchen_results[INCOME]).set_title(\"Income Data\")\n",
    "# plt.show()\n",
    "# income_metrics_df = kitchen_results.groupby(INCOME).apply(metrics_from_df).to_frame(\"fairness_metrics_per_class\")\n",
    "# ax = sns.barplot(x=INCOME, y=\"FPR\", data=plot_for_metric_class(income_metrics_df)).set_title(\"Income FPR\")\n",
    "# plt.show()\n",
    "# income_gfm = GroupFairnessMetrics(result_metrics,'Income')\n",
    "# print(f\"Income EOD: {income_gfm.equal_opportunity_difference(0, 1)}\\t{income_gfm.equal_opportunity_difference(0, 3)}\")\n",
    "# print(f\"Income AOD: {income_gfm.average_odds_difference(0, 1)}\\t{income_gfm.average_odds_difference(0, 3)}\")\n"
   ]
  },
  {
   "cell_type": "code",
   "execution_count": 65,
   "metadata": {},
   "outputs": [
    {
     "data": {
      "text/plain": [
       "array([{'TPR': array([0.76923077, 0.73529412]), 'TNR': array([0.73529412, 0.76923077]), 'PPV': array([0.83333333, 0.64935065]), 'NPV': array([0.64935065, 0.83333333]), 'FPR': array([0.26470588, 0.23076923]), 'FNR': array([0.23076923, 0.26470588]), 'FDR': array([0.16666667, 0.35064935]), 'ACC': array([0.75675676, 0.75675676])}],\n",
       "      dtype=object)"
      ]
     },
     "execution_count": 65,
     "metadata": {},
     "output_type": "execute_result"
    }
   ],
   "source": [
    "age_metrics_df.loc[0].values"
   ]
  },
  {
   "cell_type": "markdown",
   "metadata": {},
   "source": [
    "## Sports and Outdoors"
   ]
  },
  {
   "cell_type": "code",
   "execution_count": 66,
   "metadata": {
    "scrolled": true
   },
   "outputs": [
    {
     "name": "stdout",
     "output_type": "stream",
     "text": [
      "GENDER\n"
     ]
    },
    {
     "data": {
      "image/png": "[encoded data removed]",
      "text/plain": [
       "<Figure size 432x288 with 1 Axes>"
      ]
     },
     "metadata": {
      "needs_background": "light"
     },
     "output_type": "display_data"
    },
    {
     "data": {
      "image/png": "[encoded data removed]",
      "text/plain": [
       "<Figure size 432x288 with 1 Axes>"
      ]
     },
     "metadata": {
      "needs_background": "light"
     },
     "output_type": "display_data"
    },
    {
     "name": "stdout",
     "output_type": "stream",
     "text": [
      "Gender EOD:  0.03637574950033318\n",
      "Gender AOD:  0.019520192983893292\n",
      "AGE\n"
     ]
    },
    {
     "data": {
      "image/png": "[encoded data removed]",
      "text/plain": [
       "<Figure size 432x288 with 1 Axes>"
      ]
     },
     "metadata": {
      "needs_background": "light"
     },
     "output_type": "display_data"
    },
    {
     "data": {
      "image/png": "[encoded data removed]",
      "text/plain": [
       "<Figure size 432x288 with 1 Axes>"
      ]
     },
     "metadata": {
      "needs_background": "light"
     },
     "output_type": "display_data"
    },
    {
     "name": "stdout",
     "output_type": "stream",
     "text": [
      "Age EOD: -0.02783882783882785\t-0.042124542124542086\n",
      "Age AOD: -0.03813593813593816\t-0.06283945939118352\n"
     ]
    }
   ],
   "source": [
    "sports_results = result_metrics[result_metrics['AdId'].str.startswith(\"A18_\")]\n",
    "print(\"GENDER\")\n",
    "ax = sns.countplot(sports_results['Gender']).set_title(\"Gender Data\")\n",
    "plt.show()\n",
    "gender_metrics_df = sports_results.groupby('Gender').apply(metrics_from_df).to_frame(\"fairness_metrics_per_class\")\n",
    "ax = sns.barplot(x='Gender', y=\"FPR\", data=plot_for_metric_class(gender_metrics_df)).set_title(\"Gender FPR\")\n",
    "plt.show()\n",
    "gender_fairness_metrics = GroupFairnessMetrics(sports_results, 'Gender')\n",
    "print(\"Gender EOD: \",gender_fairness_metrics.equal_opportunity_difference(\"F\", \"M\"))\n",
    "print(\"Gender AOD: \",gender_fairness_metrics.average_odds_difference(\"F\", \"M\"))\n",
    "\n",
    "print(\"AGE\")\n",
    "AGE = \"Age\"\n",
    "ax = sns.countplot(sports_results[AGE]).set_title(\"Age Data\")\n",
    "plt.show()\n",
    "income_metrics_df = sports_results.groupby(AGE).apply(metrics_from_df).to_frame(\"fairness_metrics_per_class\")\n",
    "ax = sns.barplot(x=AGE, y=\"FPR\", data=plot_for_metric_class(income_metrics_df)).set_title(\"Age FPR\")\n",
    "plt.show()\n",
    "age_gfm = GroupFairnessMetrics(sports_results, 'Age')\n",
    "print(f\"Age EOD: {age_gfm.equal_opportunity_difference(0, 1)}\\t{age_gfm.equal_opportunity_difference(0, 2)}\")\n",
    "print(f\"Age AOD: {age_gfm.average_odds_difference(0, 1)}\\t{age_gfm.average_odds_difference(0, 2)}\")\n",
    "\n",
    "\n",
    "# print(\"INCOME\")\n",
    "# INCOME = \"Income\"\n",
    "# ax = sns.countplot(sports_results[INCOME]).set_title(\"Income Data\")\n",
    "# plt.show()\n",
    "# income_metrics_df = sports_results.groupby(INCOME).apply(metrics_from_df).to_frame(\"fairness_metrics_per_class\")\n",
    "# ax = sns.barplot(x=INCOME, y=\"FPR\", data=plot_for_metric_class(income_metrics_df)).set_title(\"Income FPR\")\n",
    "# plt.show()\n",
    "# income_gfm = GroupFairnessMetrics(sports_results,'Income')\n",
    "# print(f\"Income EOD: {income_gfm.equal_opportunity_difference(0, 1)}\\t{income_gfm.equal_opportunity_difference(0, 3)}\")\n",
    "# print(f\"Income AOD: {income_gfm.average_odds_difference(0, 1)}\\t{income_gfm.average_odds_difference(0, 3)}\")\n"
   ]
  },
  {
   "cell_type": "markdown",
   "metadata": {},
   "source": [
    "## Baby Products"
   ]
  },
  {
   "cell_type": "code",
   "execution_count": 67,
   "metadata": {
    "scrolled": true
   },
   "outputs": [
    {
     "name": "stdout",
     "output_type": "stream",
     "text": [
      "GENDER\n"
     ]
    },
    {
     "data": {
      "image/png": "[encoded data removed]",
      "text/plain": [
       "<Figure size 432x288 with 1 Axes>"
      ]
     },
     "metadata": {
      "needs_background": "light"
     },
     "output_type": "display_data"
    },
    {
     "data": {
      "image/png": "[encoded data removed]",
      "text/plain": [
       "<Figure size 432x288 with 1 Axes>"
      ]
     },
     "metadata": {
      "needs_background": "light"
     },
     "output_type": "display_data"
    },
    {
     "name": "stdout",
     "output_type": "stream",
     "text": [
      "Gender EOD:  0.023076923076923106\n",
      "Gender AOD:  -0.0021006821924252905\n",
      "INCOME\n"
     ]
    },
    {
     "data": {
      "image/png": "[encoded data removed]",
      "text/plain": [
       "<Figure size 432x288 with 1 Axes>"
      ]
     },
     "metadata": {
      "needs_background": "light"
     },
     "output_type": "display_data"
    },
    {
     "data": {
      "image/png": "[encoded data removed]",
      "text/plain": [
       "<Figure size 432x288 with 1 Axes>"
      ]
     },
     "metadata": {
      "needs_background": "light"
     },
     "output_type": "display_data"
    },
    {
     "name": "stdout",
     "output_type": "stream",
     "text": [
      "Income EOD: -0.08708860759493664\t-0.14857142857142858\n",
      "Income AOD: -0.04137624500884264\t-0.04599825251201399\n",
      "AGE\n"
     ]
    },
    {
     "data": {
      "image/png": "[encoded data removed]",
      "text/plain": [
       "<Figure size 432x288 with 1 Axes>"
      ]
     },
     "metadata": {
      "needs_background": "light"
     },
     "output_type": "display_data"
    },
    {
     "data": {
      "image/png": "[encoded data removed]",
      "text/plain": [
       "<Figure size 432x288 with 1 Axes>"
      ]
     },
     "metadata": {
      "needs_background": "light"
     },
     "output_type": "display_data"
    },
    {
     "name": "stdout",
     "output_type": "stream",
     "text": [
      "Age EOD: 0.118855993101466\t0.10865191146881292\n",
      "Age AOD: 0.08437091497597343\t0.08169891834226839\n"
     ]
    }
   ],
   "source": [
    "baby_results = result_metrics[result_metrics['AdId'].str.startswith(\"A03_\")]\n",
    "print(\"GENDER\")\n",
    "ax = sns.countplot(baby_results['Gender']).set_title(\"Gender Data\")\n",
    "plt.show()\n",
    "gender_metrics_df = baby_results.groupby('Gender').apply(metrics_from_df).to_frame(\"fairness_metrics_per_class\")\n",
    "ax = sns.barplot(x='Gender', y=\"FPR\", data=plot_for_metric_class(gender_metrics_df)).set_title(\"Gender FPR\")\n",
    "plt.show()\n",
    "gender_fairness_metrics = GroupFairnessMetrics(kitchen_results, 'Gender')\n",
    "print(\"Gender EOD: \",gender_fairness_metrics.equal_opportunity_difference(\"F\", \"M\"))\n",
    "print(\"Gender AOD: \",gender_fairness_metrics.average_odds_difference(\"F\", \"M\"))\n",
    "\n",
    "print(\"INCOME\")\n",
    "INCOME = \"Income\"\n",
    "ax = sns.countplot(baby_results[INCOME]).set_title(\"Income Data\")\n",
    "plt.show()\n",
    "income_metrics_df = baby_results.groupby(INCOME).apply(metrics_from_df).to_frame(\"fairness_metrics_per_class\")\n",
    "ax = sns.barplot(x=INCOME, y=\"FPR\", data=plot_for_metric_class(income_metrics_df)).set_title(\"Income FPR\")\n",
    "plt.show()\n",
    "income_gfm = GroupFairnessMetrics(baby_results,'Income')\n",
    "print(f\"Income EOD: {income_gfm.equal_opportunity_difference(0, 1)}\\t{income_gfm.equal_opportunity_difference(0, 3)}\")\n",
    "print(f\"Income AOD: {income_gfm.average_odds_difference(0, 1)}\\t{income_gfm.average_odds_difference(0, 3)}\")\n",
    "\n",
    "print(\"AGE\")\n",
    "AGE = \"Age\"\n",
    "ax = sns.countplot(baby_results[AGE]).set_title(\"Age Data\")\n",
    "plt.show()\n",
    "age_metrics_df = baby_results.groupby(AGE).apply(metrics_from_df).to_frame(\"fairness_metrics_per_class\")\n",
    "ax = sns.barplot(x=AGE, y=\"FPR\", data=plot_for_metric_class(age_metrics_df)).set_title(\"Age FPR\")\n",
    "plt.show()\n",
    "age_gfm = GroupFairnessMetrics(baby_results, 'Age')\n",
    "print(f\"Age EOD: {age_gfm.equal_opportunity_difference(0, 1)}\\t{age_gfm.equal_opportunity_difference(0, 2)}\")\n",
    "print(f\"Age AOD: {age_gfm.average_odds_difference(0, 1)}\\t{age_gfm.average_odds_difference(0, 2)}\")\n"
   ]
  },
  {
   "cell_type": "markdown",
   "metadata": {},
   "source": [
    "## Consumer Electronics"
   ]
  },
  {
   "cell_type": "code",
   "execution_count": 68,
   "metadata": {},
   "outputs": [
    {
     "name": "stdout",
     "output_type": "stream",
     "text": [
      "GENDER\n"
     ]
    },
    {
     "data": {
      "image/png": "[encoded data removed]",
      "text/plain": [
       "<Figure size 432x288 with 1 Axes>"
      ]
     },
     "metadata": {
      "needs_background": "light"
     },
     "output_type": "display_data"
    },
    {
     "data": {
      "image/png": "[encoded data removed]",
      "text/plain": [
       "<Figure size 432x288 with 1 Axes>"
      ]
     },
     "metadata": {
      "needs_background": "light"
     },
     "output_type": "display_data"
    },
    {
     "name": "stdout",
     "output_type": "stream",
     "text": [
      "Gender EOD:  0.023076923076923106\n",
      "Gender AOD:  -0.0021006821924252905\n",
      "AGE\n"
     ]
    },
    {
     "data": {
      "image/png": "[encoded data removed]",
      "text/plain": [
       "<Figure size 432x288 with 1 Axes>"
      ]
     },
     "metadata": {
      "needs_background": "light"
     },
     "output_type": "display_data"
    },
    {
     "data": {
      "image/png": "[encoded data removed]",
      "text/plain": [
       "<Figure size 432x288 with 1 Axes>"
      ]
     },
     "metadata": {
      "needs_background": "light"
     },
     "output_type": "display_data"
    },
    {
     "name": "stdout",
     "output_type": "stream",
     "text": [
      "Age EOD: 0.118855993101466\t0.10865191146881292\n",
      "Age AOD: 0.08437091497597343\t0.08169891834226839\n"
     ]
    }
   ],
   "source": [
    "electronics_results = result_metrics[result_metrics['AdId'].str.startswith(\"A06_\")]\n",
    "print(\"GENDER\")\n",
    "ax = sns.countplot(electronics_results['Gender']).set_title(\"Gender Data\")\n",
    "plt.show()\n",
    "gender_metrics_df = electronics_results.groupby('Gender').apply(metrics_from_df).to_frame(\"fairness_metrics_per_class\")\n",
    "ax = sns.barplot(x='Gender', y=\"FPR\", data=plot_for_metric_class(gender_metrics_df)).set_title(\"Gender FPR\")\n",
    "plt.show()\n",
    "gender_fairness_metrics = GroupFairnessMetrics(kitchen_results, 'Gender')\n",
    "print(\"Gender EOD: \",gender_fairness_metrics.equal_opportunity_difference(\"F\", \"M\"))\n",
    "print(\"Gender AOD: \",gender_fairness_metrics.average_odds_difference(\"F\", \"M\"))\n",
    "\n",
    "print(\"AGE\")\n",
    "AGE = \"Age\"\n",
    "ax = sns.countplot(electronics_results[AGE]).set_title(\"Age Data\")\n",
    "plt.show()\n",
    "income_metrics_df = electronics_results.groupby(AGE).apply(metrics_from_df).to_frame(\"fairness_metrics_per_class\")\n",
    "ax = sns.barplot(x=AGE, y=\"FPR\", data=plot_for_metric_class(income_metrics_df)).set_title(\"Age FPR\")\n",
    "plt.show()\n",
    "income_gfm = GroupFairnessMetrics(electronics_results,'Income')\n",
    "print(f\"Age EOD: {age_gfm.equal_opportunity_difference(0, 1)}\\t{age_gfm.equal_opportunity_difference(0, 2)}\")\n",
    "print(f\"Age AOD: {age_gfm.average_odds_difference(0, 1)}\\t{age_gfm.average_odds_difference(0, 2)}\")\n",
    "\n",
    "\n",
    "# print(\"INCOME\")\n",
    "# INCOME = \"Income\"\n",
    "# ax = sns.countplot(electronics_results[INCOME]).set_title(\"Income Data\")\n",
    "# plt.show()\n",
    "# income_metrics_df = electronics_results.groupby(INCOME).apply(metrics_from_df).to_frame(\"fairness_metrics_per_class\")\n",
    "# ax = sns.barplot(x=INCOME, y=\"FPR\", data=plot_for_metric_class(income_metrics_df)).set_title(\"Income FPR\")\n",
    "# plt.show()\n",
    "# age_gfm = GroupFairnessMetrics(electronics_results,'Income')\n",
    "# print(f\"Income EOD: {income_gfm.equal_opportunity_difference(0, 1)}\\t{age_gfm.equal_opportunity_difference(0, 3)}\")\n",
    "# print(f\"Income AOD: {income_gfm.average_odds_difference(0, 1)}\\t{age_gfm.average_odds_difference(0, 3)}\")\n"
   ]
  },
  {
   "cell_type": "code",
   "execution_count": null,
   "metadata": {},
   "outputs": [],
   "source": []
  },
  {
   "cell_type": "code",
   "execution_count": null,
   "metadata": {},
   "outputs": [],
   "source": []
  },
  {
   "cell_type": "code",
   "execution_count": null,
   "metadata": {},
   "outputs": [],
   "source": []
  },
  {
   "cell_type": "code",
   "execution_count": null,
   "metadata": {},
   "outputs": [],
   "source": []
  },
  {
   "cell_type": "code",
   "execution_count": null,
   "metadata": {},
   "outputs": [],
   "source": []
  },
  {
   "cell_type": "code",
   "execution_count": null,
   "metadata": {},
   "outputs": [],
   "source": []
  },
  {
   "cell_type": "code",
   "execution_count": null,
   "metadata": {},
   "outputs": [],
   "source": [
    "# file_path = './imp_sparse_features_train.csv'\n",
    "# target = 'Rating'\n",
    "# split = 0.3\n",
    "# x_train, x_val, y_train, y_val, tgt_type = read_preprocess.read_and_preprocess(file_path, target, split)\n",
    "x_train = torch.from_numpy(x_train.to_numpy()).float()\n",
    "y_train = torch.squeeze(torch.from_numpy(y_train.to_numpy()).long())\n",
    "\n",
    "x_val = torch.from_numpy(x_val.to_numpy()).float()\n",
    "y_val = torch.squeeze(torch.from_numpy(y_val.to_numpy()).long())"
   ]
  },
  {
   "cell_type": "code",
   "execution_count": null,
   "metadata": {},
   "outputs": [],
   "source": [
    "pca = PCA().fit(X_std)\n",
    "plt.plot(np.cumsum(pca.explained_variance_ratio_))\n",
    "plt.xlim(0,40,1)\n",
    "plt.xlabel('Number of components')\n",
    "plt.ylabel('Cumulative explained variance')"
   ]
  },
  {
   "cell_type": "code",
   "execution_count": null,
   "metadata": {},
   "outputs": [],
   "source": [
    "pca_transformer = PCA(n_components=35)\n",
    "pca = pca_transformer.fit_transform(X_std)"
   ]
  },
  {
   "cell_type": "code",
   "execution_count": null,
   "metadata": {},
   "outputs": [],
   "source": []
  },
  {
   "cell_type": "code",
   "execution_count": null,
   "metadata": {},
   "outputs": [],
   "source": [
    "def train(lr, batch_size, epochs, x_train, y_train, x_val, y_val,step_size, tgt_type):\n",
    "    print(y_train.shape[1])\n",
    "    highest_acc = 0\n",
    "    net = DNN(x_train.shape[1], tgt_type, [128,128,64,32],y_train.shape[1])\n",
    "    \n",
    "    if tgt_type==\"regression\":\n",
    "        criterion = nn.MSELoss()\n",
    "    else:\n",
    "        criterion = nn.NLLLoss()\n",
    "    optimizer = torch.optim.Adam(net.parameters(), lr=lr)\n",
    "    \n",
    "    params = {\n",
    "        'batch_size': 64,\n",
    "        'shuffle': True,\n",
    "        'num_workers': 0\n",
    "    }\n",
    "    training_set = dataset_csv(x_train, y_train)\n",
    "    train_loader = DataLoader(training_set, **params)\n",
    "    validation_set = dataset_csv(x_val, y_val)\n",
    "    val_loader = DataLoader(validation_set, **params)\n",
    "    \n",
    "    \n",
    "    net = net.to(device)\n",
    "    criterion = criterion.to(device)\n",
    "    \n",
    "    for epoch in range(epochs):\n",
    "        for a in optimizer.param_groups:\n",
    "            lr = cosine_lr(lr, epoch, step_size) + 1e-5\n",
    "            a['lr'] = lr\n",
    "        t_loss, a, acc = 0, 0, 0\n",
    "        log = {'y_train': [], 'y_val': [], 'y_pred': [], 'y_val_pred': []}\n",
    "        for x_train, y_train in train_loader:\n",
    "            a+=1\n",
    "            x_train, y_train = x_train.to(device), y_train.to(device)\n",
    "            optimizer.zero_grad()\n",
    "            net.train()\n",
    "            y_pred = net(x_train)\n",
    "            train_loss = criterion(y_pred, torch.max(y_train, 1)[1])\n",
    "            t_loss += train_loss\n",
    "            train_loss.backward()\n",
    "            optimizer.step()\n",
    "            acc += (y_pred.argmax(dim=1) == torch.max(y_train, 1)[1]).sum().float() / float(y_train.size(0))\n",
    "        print(acc/a)\n",
    "        t_loss /= a\n",
    "        if epoch%1 == 0:\n",
    "            with torch.set_grad_enabled(False):\n",
    "                test_loss, a, acc = 0, 0, 0\n",
    "                for x_val, y_val in val_loader:\n",
    "                    a += 1\n",
    "                    x_val, y_val = x_val.to(device),y_val.to(device)\n",
    "                    y_test_pred = net(x_val)\n",
    "                    y_test_pred = torch.squeeze(y_test_pred)\n",
    "                    test_loss += criterion(y_test_pred, torch.max(y_val, 1)[1])\n",
    "                    acc += (y_test_pred.argmax(dim=1) == torch.max(y_val, 1)[1]).sum().float() / float(y_val.size(0))\n",
    "            if (acc/a)>highest_acc: \n",
    "                highest_acc = acc/a\n",
    "                torch.save(net.state_dict(),\"./model_info/14_may_1.pth\")\n",
    "            print(acc/a)\n",
    "            test_loss /= a\n",
    "            print(f'[epoch]: {epoch}, [Train Loss]: {t_loss.item()}, [Val Loss]: {test_loss.item()}')\n",
    "        \n",
    "        if tgt_type==\"regression\":\n",
    "            if epoch%30==0:\n",
    "                scaler_t = pickle.load(open('./model_info/scaler_t.pkl','rb'))\n",
    "                y_0 = scaler_t.inverse_transform(log['y_train'])\n",
    "                y_1 = scaler_t.inverse_transform(log['y_pred'])\n",
    "                rmse = np.sqrt(mean_squared_error(y_0,y_1))\n",
    "                print(rmse)\n",
    "                y_0 = scaler_t.inverse_transform(log['y_val'])\n",
    "                y_1 = scaler_t.inverse_transform(log['y_val_pred'])\n",
    "                rmse = np.sqrt(mean_squared_error(y_0,y_1))\n",
    "                print(rmse)\n",
    "    return net, log"
   ]
  },
  {
   "cell_type": "code",
   "execution_count": null,
   "metadata": {},
   "outputs": [],
   "source": [
    "trained_model, log = train(0.003, 512, 100, x_train, y_train, x_val, y_val, 10, tgt_type)"
   ]
  },
  {
   "cell_type": "code",
   "execution_count": null,
   "metadata": {},
   "outputs": [],
   "source": [
    "# file_path = './upvotes/train.csv'\n",
    "# target = 'Upvotes'\n",
    "\n",
    "# X,y = read_and_preprocess_test(file_path, target, tgt_type)\n",
    "ckpt_dir = \"./model_info/14_may_1.pth\"\n",
    "def test(X,y, tgt_type, ckpt_dir):\n",
    "    trained_model = DNN(x_train.shape[1], tgt_type, [128,128,64,32],y_train.shape[1])\n",
    "    trained_model.load_state_dict(torch.load(ckpt_dir))\n",
    "    trained_model\n",
    "    x_test = X\n",
    "    if y is not None:\n",
    "        y_test = y\n",
    "    trained_model.eval()\n",
    "    y_pred = trained_model(x_test)\n",
    "    y_pred = torch.squeeze(y_pred)\n",
    "    return y_pred"
   ]
  },
  {
   "cell_type": "code",
   "execution_count": null,
   "metadata": {},
   "outputs": [],
   "source": [
    "predictions = test(x_val,y_val,tgt_type,ckpt_dir)\n",
    "enc = pickle.load(open('./model_info/OHE.pkl','rb'))\n",
    "df = pd.DataFrame(columns=['gt','predictions'])\n",
    "# df[['predictions']] = scaler_t.inverse_transform(df[['predictions']])"
   ]
  },
  {
   "cell_type": "code",
   "execution_count": null,
   "metadata": {
    "scrolled": true
   },
   "outputs": [],
   "source": [
    "gt = torch.max(y_val, 1)[1].detach().numpy()\n",
    "df = pd.DataFrame(gt)\n",
    "df"
   ]
  },
  {
   "cell_type": "code",
   "execution_count": null,
   "metadata": {},
   "outputs": [],
   "source": [
    "df = pd.DataFrame(columns=['gt','predictions'])\n",
    "df['gt'] = gt\n",
    "df['predictions'] = predictions.argmax(dim=1)\n",
    "pred_df = pd.DataFrame(classification_report(df['gt'], df['predictions'], output_dict=True))\n",
    "pred_df"
   ]
  },
  {
   "cell_type": "code",
   "execution_count": null,
   "metadata": {
    "scrolled": true
   },
   "outputs": [],
   "source": [
    "cm = pd.DataFrame(confusion_matrix(df['gt'], df['predictions']))\n",
    "cm"
   ]
  },
  {
   "cell_type": "code",
   "execution_count": null,
   "metadata": {},
   "outputs": [],
   "source": [
    "file_path = './CICIDS2017/combined_data_test.csv'\n",
    "target = 'Label'\n",
    "x_test, y_test = read_preprocess.read_and_preprocess_test(file_path, target, split)\n",
    "\n",
    "x_test = torch.from_numpy(x_test.to_numpy()).float()\n",
    "y_test = torch.squeeze(torch.from_numpy(y_test.to_numpy()).long())"
   ]
  },
  {
   "cell_type": "code",
   "execution_count": null,
   "metadata": {},
   "outputs": [],
   "source": [
    "predictions = test(x_test,y_test,tgt_type,ckpt_dir)\n",
    "enc = pickle.load(open('./model_info/OHE.pkl','rb'))\n",
    "df = pd.DataFrame(columns=['gt','predictions'])\n",
    "gt = torch.max(y_test, 1)[1].detach().numpy()\n",
    "df = pd.DataFrame(gt)\n",
    "df = pd.DataFrame(columns=['gt','predictions'])\n",
    "df['gt'] = gt\n",
    "df['predictions'] = predictions.argmax(dim=1)\n",
    "pred_df = pd.DataFrame(classification_report(df['gt'], df['predictions'], output_dict=True))\n",
    "pred_df, pd.DataFrame(confusion_matrix(df['gt'], df['predictions']))"
   ]
  },
  {
   "cell_type": "code",
   "execution_count": null,
   "metadata": {},
   "outputs": [],
   "source": [
    "pred.numpy()"
   ]
  },
  {
   "cell_type": "code",
   "execution_count": null,
   "metadata": {},
   "outputs": [],
   "source": [
    "b = np.zeros((gt.size, gt.max()+1))\n",
    "b[np.arange(gt.size),gt] = 1\n",
    "gt2 = b\n",
    "\n",
    "pred = predictions.argmax(dim=1).numpy()\n",
    "b = np.zeros((pred.size,pred.max()+1))\n",
    "b[np.arange(pred.size),pred] = 1\n",
    "pred = b"
   ]
  },
  {
   "cell_type": "code",
   "execution_count": null,
   "metadata": {},
   "outputs": [],
   "source": [
    "enc.inverse_transform(gt2)"
   ]
  },
  {
   "cell_type": "code",
   "execution_count": null,
   "metadata": {},
   "outputs": [],
   "source": [
    "df['gt'] = enc.inverse_transform(gt2)\n",
    "df['predictions'] = enc.inverse_transform(pred)\n",
    "pred_df = pd.DataFrame(classification_report(df['gt'], df['predictions'], output_dict=True))\n",
    "pred_df"
   ]
  },
  {
   "cell_type": "code",
   "execution_count": null,
   "metadata": {},
   "outputs": [],
   "source": [
    "labels = df['gt'].unique().tolist()"
   ]
  },
  {
   "cell_type": "code",
   "execution_count": null,
   "metadata": {},
   "outputs": [],
   "source": [
    "pd.DataFrame(confusion_matrix(df['gt'], df['predictions'],normalize = 'all'), index = labels,columns = labels)"
   ]
  },
  {
   "cell_type": "code",
   "execution_count": null,
   "metadata": {},
   "outputs": [],
   "source": []
  }
 ],
 "metadata": {
  "kernelspec": {
   "display_name": "Python 3",
   "language": "python",
   "name": "python3"
  },
  "language_info": {
   "codemirror_mode": {
    "name": "ipython",
    "version": 3
   },
   "file_extension": ".py",
   "mimetype": "text/x-python",
   "name": "python",
   "nbconvert_exporter": "python",
   "pygments_lexer": "ipython3",
   "version": "3.7.6"
  }
 },
 "nbformat": 4,
 "nbformat_minor": 4
}
